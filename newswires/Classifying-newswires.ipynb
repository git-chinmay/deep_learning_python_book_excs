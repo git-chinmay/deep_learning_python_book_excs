{
 "cells": [
  {
   "cell_type": "markdown",
   "id": "03079beb",
   "metadata": {},
   "source": [
    "## Details\n",
    "1) Work with Reuters dataset, a set of short newswires and their topics published by Reuters in 1986.\n",
    "\n",
    "2) There are 46 different topics\n",
    "\n",
    "3) Each topic has at least 10 examples in the training set"
   ]
  },
  {
   "cell_type": "code",
   "execution_count": 1,
   "id": "5a76f89f",
   "metadata": {},
   "outputs": [
    {
     "name": "stderr",
     "output_type": "stream",
     "text": [
      "Using TensorFlow backend.\n"
     ]
    },
    {
     "name": "stdout",
     "output_type": "stream",
     "text": [
      "Downloading data from https://s3.amazonaws.com/text-datasets/reuters.npz\n",
      "2113536/2110848 [==============================] - 0s 0us/step\n"
     ]
    }
   ],
   "source": [
    "from keras.datasets import reuters\n",
    "(train_data, train_labels),(test_data, test_labels) = reuters.load_data(num_words=10000)"
   ]
  },
  {
   "cell_type": "code",
   "execution_count": 10,
   "id": "0a7f5af2",
   "metadata": {},
   "outputs": [
    {
     "data": {
      "text/plain": [
       "(8982, 2246, 8982)"
      ]
     },
     "execution_count": 10,
     "metadata": {},
     "output_type": "execute_result"
    }
   ],
   "source": [
    "len(train_data), len(test_data)"
   ]
  },
  {
   "cell_type": "code",
   "execution_count": 3,
   "id": "cbad349f",
   "metadata": {
    "collapsed": true
   },
   "outputs": [
    {
     "data": {
      "text/plain": [
       "[1,\n",
       " 2,\n",
       " 2,\n",
       " 8,\n",
       " 43,\n",
       " 10,\n",
       " 447,\n",
       " 5,\n",
       " 25,\n",
       " 207,\n",
       " 270,\n",
       " 5,\n",
       " 3095,\n",
       " 111,\n",
       " 16,\n",
       " 369,\n",
       " 186,\n",
       " 90,\n",
       " 67,\n",
       " 7,\n",
       " 89,\n",
       " 5,\n",
       " 19,\n",
       " 102,\n",
       " 6,\n",
       " 19,\n",
       " 124,\n",
       " 15,\n",
       " 90,\n",
       " 67,\n",
       " 84,\n",
       " 22,\n",
       " 482,\n",
       " 26,\n",
       " 7,\n",
       " 48,\n",
       " 4,\n",
       " 49,\n",
       " 8,\n",
       " 864,\n",
       " 39,\n",
       " 209,\n",
       " 154,\n",
       " 6,\n",
       " 151,\n",
       " 6,\n",
       " 83,\n",
       " 11,\n",
       " 15,\n",
       " 22,\n",
       " 155,\n",
       " 11,\n",
       " 15,\n",
       " 7,\n",
       " 48,\n",
       " 9,\n",
       " 4579,\n",
       " 1005,\n",
       " 504,\n",
       " 6,\n",
       " 258,\n",
       " 6,\n",
       " 272,\n",
       " 11,\n",
       " 15,\n",
       " 22,\n",
       " 134,\n",
       " 44,\n",
       " 11,\n",
       " 15,\n",
       " 16,\n",
       " 8,\n",
       " 197,\n",
       " 1245,\n",
       " 90,\n",
       " 67,\n",
       " 52,\n",
       " 29,\n",
       " 209,\n",
       " 30,\n",
       " 32,\n",
       " 132,\n",
       " 6,\n",
       " 109,\n",
       " 15,\n",
       " 17,\n",
       " 12]"
      ]
     },
     "execution_count": 3,
     "metadata": {},
     "output_type": "execute_result"
    }
   ],
   "source": [
    "train_data[0]"
   ]
  },
  {
   "cell_type": "code",
   "execution_count": 5,
   "id": "7f649a83",
   "metadata": {},
   "outputs": [
    {
     "data": {
      "text/plain": [
       "(87, 409)"
      ]
     },
     "execution_count": 5,
     "metadata": {},
     "output_type": "execute_result"
    }
   ],
   "source": [
    "len(train_data[0]), len(train_data[100])"
   ]
  },
  {
   "cell_type": "code",
   "execution_count": 11,
   "id": "2df7f62b",
   "metadata": {},
   "outputs": [
    {
     "data": {
      "text/plain": [
       "3"
      ]
     },
     "execution_count": 11,
     "metadata": {},
     "output_type": "execute_result"
    }
   ],
   "source": [
    "# The labels will be a number between 0 to 45 as we have 46 topics total\n",
    "#This numb er indictaes the index of the topic\n",
    "train_labels[0]"
   ]
  },
  {
   "cell_type": "code",
   "execution_count": 14,
   "id": "723b127e",
   "metadata": {},
   "outputs": [],
   "source": [
    "word_index = reuters.get_word_index()\n",
    "reverse_word_index= dict([(value, key) for (key, value) in word_index.items()])\n",
    "decoded_newswire = ' '.join([reverse_word_index.get(i-3, '?') for i in train_data[0]])"
   ]
  },
  {
   "cell_type": "code",
   "execution_count": 15,
   "id": "18554a77",
   "metadata": {},
   "outputs": [
    {
     "data": {
      "text/plain": [
       "'? ? ? said as a result of its december acquisition of space co it expects earnings per share in 1987 of 1 15 to 1 30 dlrs per share up from 70 cts in 1986 the company said pretax net should rise to nine to 10 mln dlrs from six mln dlrs in 1986 and rental operation revenues to 19 to 22 mln dlrs from 12 5 mln dlrs it said cash flow per share this year should be 2 50 to three dlrs reuter 3'"
      ]
     },
     "execution_count": 15,
     "metadata": {},
     "output_type": "execute_result"
    }
   ],
   "source": [
    "#Prinitng the 0th or 1st news from training the data\n",
    "decoded_newswire"
   ]
  },
  {
   "cell_type": "markdown",
   "id": "12cdca39",
   "metadata": {},
   "source": [
    "#### Preparing the data"
   ]
  },
  {
   "cell_type": "code",
   "execution_count": 20,
   "id": "43f24895",
   "metadata": {},
   "outputs": [],
   "source": [
    "import numpy as np\n",
    "def vectorize_sequence(sequences, dimensions=10000):\n",
    "    results = np.zeros((len(sequences),dimensions))\n",
    "    for ind, value in enumerate(sequences):\n",
    "        results[ind, value] = 1.\n",
    "    return results"
   ]
  },
  {
   "cell_type": "code",
   "execution_count": 21,
   "id": "80412c3e",
   "metadata": {},
   "outputs": [],
   "source": [
    "#Converting each row which is a list of integers into binary vectors\n",
    "x_train = vectorize_sequence(train_data)\n",
    "x_test = vectorize_sequence(test_data)"
   ]
  },
  {
   "cell_type": "code",
   "execution_count": 22,
   "id": "4b3f5bc4",
   "metadata": {},
   "outputs": [
    {
     "data": {
      "text/plain": [
       "8982"
      ]
     },
     "execution_count": 22,
     "metadata": {},
     "output_type": "execute_result"
    }
   ],
   "source": [
    "len(x_train)"
   ]
  },
  {
   "cell_type": "code",
   "execution_count": 24,
   "id": "5fdff6d8",
   "metadata": {},
   "outputs": [
    {
     "data": {
      "text/plain": [
       "(array([0., 1., 1., ..., 0., 0., 0.]), 10000)"
      ]
     },
     "execution_count": 24,
     "metadata": {},
     "output_type": "execute_result"
    }
   ],
   "source": [
    "x_train[0], len(x_train[0])"
   ]
  },
  {
   "cell_type": "code",
   "execution_count": 25,
   "id": "6a3aad1a",
   "metadata": {},
   "outputs": [],
   "source": [
    "from keras.utils.np_utils import to_categorical\n",
    "one_hot_train_labels = to_categorical(train_labels)\n",
    "one_hot_test_labels = to_categorical(test_labels)"
   ]
  },
  {
   "cell_type": "code",
   "execution_count": 32,
   "id": "b3b14514",
   "metadata": {},
   "outputs": [
    {
     "data": {
      "text/plain": [
       "(array([0., 0., 0., 1., 0., 0., 0., 0., 0., 0., 0., 0., 0., 0., 0., 0., 0.,\n",
       "        0., 0., 0., 0., 0., 0., 0., 0., 0., 0., 0., 0., 0., 0., 0., 0., 0.,\n",
       "        0., 0., 0., 0., 0., 0., 0., 0., 0., 0., 0., 0.], dtype=float32),\n",
       " 3)"
      ]
     },
     "execution_count": 32,
     "metadata": {},
     "output_type": "execute_result"
    }
   ],
   "source": [
    "one_hot_train_labels[0], train_labels[0]"
   ]
  },
  {
   "cell_type": "code",
   "execution_count": 31,
   "id": "de62debf",
   "metadata": {},
   "outputs": [
    {
     "data": {
      "text/plain": [
       "46"
      ]
     },
     "execution_count": 31,
     "metadata": {},
     "output_type": "execute_result"
    }
   ],
   "source": [
    "len(one_hot_train_labels[0])"
   ]
  },
  {
   "cell_type": "markdown",
   "id": "c74b9d7f",
   "metadata": {},
   "source": [
    "#### Building the netwrok"
   ]
  },
  {
   "cell_type": "code",
   "execution_count": 33,
   "id": "986f6782",
   "metadata": {},
   "outputs": [],
   "source": [
    "from keras import models, layers\n",
    "model = models.Sequential()\n",
    "model.add(layers.Dense(64, input_shape=(10000,), activation='relu'))\n",
    "model.add(layers.Dense(64, activation='relu'))\n",
    "model.add(layers.Dense(46, activation='softmax'))"
   ]
  },
  {
   "cell_type": "markdown",
   "id": "0bbb36dc",
   "metadata": {},
   "source": [
    "#### Compiling the model"
   ]
  },
  {
   "cell_type": "code",
   "execution_count": 34,
   "id": "574c1d92",
   "metadata": {},
   "outputs": [],
   "source": [
    "model.compile(optimizer='rmsprop', loss='categorical_crossentropy', metrics=['accuracy'])"
   ]
  },
  {
   "cell_type": "markdown",
   "id": "1b648f01",
   "metadata": {},
   "source": [
    "#### Creating a validation set\n",
    "Lets use 1000 samples from tarining for validation"
   ]
  },
  {
   "cell_type": "code",
   "execution_count": 36,
   "id": "33046931",
   "metadata": {},
   "outputs": [],
   "source": [
    "x_val = x_train[:1000]\n",
    "x_partial_train = x_train[1000:]\n",
    "\n",
    "y_val = one_hot_train_labels[:1000]\n",
    "y_partial_train = one_hot_train_labels[1000:]"
   ]
  },
  {
   "cell_type": "markdown",
   "id": "e6b0fcdc",
   "metadata": {},
   "source": [
    "#### Training the Model\n",
    "Lets Run for 20 epochs"
   ]
  },
  {
   "cell_type": "code",
   "execution_count": 37,
   "id": "7597f5b3",
   "metadata": {},
   "outputs": [
    {
     "name": "stdout",
     "output_type": "stream",
     "text": [
      "Train on 7982 samples, validate on 1000 samples\n",
      "Epoch 1/20\n",
      "7982/7982 [==============================] - 1s 181us/step - loss: 2.7509 - accuracy: 0.5205 - val_loss: 1.7877 - val_accuracy: 0.6440\n",
      "Epoch 2/20\n",
      "7982/7982 [==============================] - 1s 110us/step - loss: 1.4844 - accuracy: 0.7086 - val_loss: 1.3267 - val_accuracy: 0.7100\n",
      "Epoch 3/20\n",
      "7982/7982 [==============================] - 1s 107us/step - loss: 1.0997 - accuracy: 0.7725 - val_loss: 1.1411 - val_accuracy: 0.7490\n",
      "Epoch 4/20\n",
      "7982/7982 [==============================] - 1s 111us/step - loss: 0.8662 - accuracy: 0.8185 - val_loss: 1.0346 - val_accuracy: 0.7750\n",
      "Epoch 5/20\n",
      "7982/7982 [==============================] - 1s 108us/step - loss: 0.6939 - accuracy: 0.8525 - val_loss: 0.9765 - val_accuracy: 0.7780\n",
      "Epoch 6/20\n",
      "7982/7982 [==============================] - 1s 107us/step - loss: 0.5634 - accuracy: 0.8810 - val_loss: 0.9166 - val_accuracy: 0.8050\n",
      "Epoch 7/20\n",
      "7982/7982 [==============================] - 1s 103us/step - loss: 0.4565 - accuracy: 0.9065 - val_loss: 0.8868 - val_accuracy: 0.8100\n",
      "Epoch 8/20\n",
      "7982/7982 [==============================] - 1s 106us/step - loss: 0.3692 - accuracy: 0.9227 - val_loss: 0.8842 - val_accuracy: 0.8210\n",
      "Epoch 9/20\n",
      "7982/7982 [==============================] - 1s 106us/step - loss: 0.3087 - accuracy: 0.9328 - val_loss: 0.8949 - val_accuracy: 0.8100\n",
      "Epoch 10/20\n",
      "7982/7982 [==============================] - 1s 104us/step - loss: 0.2612 - accuracy: 0.9421 - val_loss: 0.8785 - val_accuracy: 0.8160\n",
      "Epoch 11/20\n",
      "7982/7982 [==============================] - 1s 103us/step - loss: 0.2204 - accuracy: 0.9494 - val_loss: 0.8819 - val_accuracy: 0.8220\n",
      "Epoch 12/20\n",
      "7982/7982 [==============================] - 1s 103us/step - loss: 0.1960 - accuracy: 0.9504 - val_loss: 0.9658 - val_accuracy: 0.8000\n",
      "Epoch 13/20\n",
      "7982/7982 [==============================] - 1s 103us/step - loss: 0.1737 - accuracy: 0.9530 - val_loss: 0.9226 - val_accuracy: 0.8150\n",
      "Epoch 14/20\n",
      "7982/7982 [==============================] - 1s 104us/step - loss: 0.1556 - accuracy: 0.9543 - val_loss: 0.9195 - val_accuracy: 0.8090\n",
      "Epoch 15/20\n",
      "7982/7982 [==============================] - 1s 103us/step - loss: 0.1454 - accuracy: 0.9569 - val_loss: 0.9650 - val_accuracy: 0.8100\n",
      "Epoch 16/20\n",
      "7982/7982 [==============================] - 1s 103us/step - loss: 0.1329 - accuracy: 0.9557 - val_loss: 1.0140 - val_accuracy: 0.8010\n",
      "Epoch 17/20\n",
      "7982/7982 [==============================] - 1s 101us/step - loss: 0.1276 - accuracy: 0.9573 - val_loss: 0.9767 - val_accuracy: 0.8150\n",
      "Epoch 18/20\n",
      "7982/7982 [==============================] - 1s 101us/step - loss: 0.1217 - accuracy: 0.9564 - val_loss: 1.0111 - val_accuracy: 0.8060\n",
      "Epoch 19/20\n",
      "7982/7982 [==============================] - 1s 102us/step - loss: 0.1152 - accuracy: 0.9545 - val_loss: 1.0265 - val_accuracy: 0.8090\n",
      "Epoch 20/20\n",
      "7982/7982 [==============================] - 1s 102us/step - loss: 0.1144 - accuracy: 0.9562 - val_loss: 1.0536 - val_accuracy: 0.8090\n"
     ]
    }
   ],
   "source": [
    "history = model.fit(x_partial_train, y_partial_train, batch_size=512, epochs=20, validation_data=(x_val, y_val))"
   ]
  },
  {
   "cell_type": "markdown",
   "id": "5a0568b0",
   "metadata": {},
   "source": [
    "#### Plotting the training and valiadation loss"
   ]
  },
  {
   "cell_type": "code",
   "execution_count": 39,
   "id": "a6d32d89",
   "metadata": {},
   "outputs": [],
   "source": [
    "history_dict = history.history"
   ]
  },
  {
   "cell_type": "code",
   "execution_count": 40,
   "id": "7c682087",
   "metadata": {},
   "outputs": [
    {
     "data": {
      "image/png": "[encoded data removed]",
      "text/plain": [
       "<Figure size 432x288 with 1 Axes>"
      ]
     },
     "metadata": {
      "needs_background": "light"
     },
     "output_type": "display_data"
    }
   ],
   "source": [
    "# Train loss vs validation loss\n",
    "import matplotlib.pyplot as plt\n",
    "train_loss_values = history_dict['loss']\n",
    "val_loss_values = history_dict['val_loss']\n",
    "epochs = range(1, len(history_dict['accuracy']) + 1)\n",
    "\n",
    "plt.plot(epochs, train_loss_values, 'bo', label='train_loss')\n",
    "plt.plot(epochs, val_loss_values, 'b', label='val_loss')\n",
    "plt.title(\"Training vs validation loss\")\n",
    "plt.xlabel('Epochs')\n",
    "plt.ylabel('Loss')\n",
    "plt.legend()\n",
    "plt.show()"
   ]
  },
  {
   "cell_type": "markdown",
   "id": "bdf42679",
   "metadata": {},
   "source": [
    "#### Accuracy plot"
   ]
  },
  {
   "cell_type": "code",
   "execution_count": 41,
   "id": "78e22b60",
   "metadata": {},
   "outputs": [
    {
     "data": {
      "image/png": "[encoded data removed]",
      "text/plain": [
       "<Figure size 432x288 with 1 Axes>"
      ]
     },
     "metadata": {
      "needs_background": "light"
     },
     "output_type": "display_data"
    }
   ],
   "source": [
    "train_acc_values = history_dict['accuracy']\n",
    "val_acc_values = history_dict['val_accuracy']\n",
    "epochs = range(1, len(history_dict['accuracy']) + 1)\n",
    "\n",
    "plt.plot(epochs, train_acc_values, 'bo', label='train_acc')\n",
    "plt.plot(epochs, val_acc_values, 'b', label='val_acc')\n",
    "plt.title(\"Training vs validation accuracy\")\n",
    "plt.xlabel('Epochs')\n",
    "plt.ylabel('Accuracy')\n",
    "plt.legend()\n",
    "plt.show()"
   ]
  },
  {
   "cell_type": "code",
   "execution_count": 42,
   "id": "f0f135ea",
   "metadata": {},
   "outputs": [
    {
     "name": "stdout",
     "output_type": "stream",
     "text": [
      "Train on 7982 samples, validate on 1000 samples\n",
      "Epoch 1/9\n",
      "7982/7982 [==============================] - 1s 103us/step - loss: 0.1090 - accuracy: 0.9598 - val_loss: 1.0674 - val_accuracy: 0.7960\n",
      "Epoch 2/9\n",
      "7982/7982 [==============================] - 1s 101us/step - loss: 0.1097 - accuracy: 0.9565 - val_loss: 1.0929 - val_accuracy: 0.7980\n",
      "Epoch 3/9\n",
      "7982/7982 [==============================] - 1s 100us/step - loss: 0.1070 - accuracy: 0.9602 - val_loss: 1.0518 - val_accuracy: 0.8080\n",
      "Epoch 4/9\n",
      "7982/7982 [==============================] - 1s 99us/step - loss: 0.1014 - accuracy: 0.9585 - val_loss: 1.1048 - val_accuracy: 0.8060\n",
      "Epoch 5/9\n",
      "7982/7982 [==============================] - 1s 100us/step - loss: 0.0982 - accuracy: 0.9574 - val_loss: 1.1581 - val_accuracy: 0.7840\n",
      "Epoch 6/9\n",
      "7982/7982 [==============================] - 1s 101us/step - loss: 0.1020 - accuracy: 0.9584 - val_loss: 1.1521 - val_accuracy: 0.8000\n",
      "Epoch 7/9\n",
      "7982/7982 [==============================] - 1s 102us/step - loss: 0.0985 - accuracy: 0.9574 - val_loss: 1.1812 - val_accuracy: 0.7940\n",
      "Epoch 8/9\n",
      "7982/7982 [==============================] - 1s 101us/step - loss: 0.0994 - accuracy: 0.9584 - val_loss: 1.1537 - val_accuracy: 0.7910\n",
      "Epoch 9/9\n",
      "7982/7982 [==============================] - 1s 102us/step - loss: 0.0936 - accuracy: 0.9590 - val_loss: 1.1931 - val_accuracy: 0.7900\n"
     ]
    },
    {
     "data": {
      "text/plain": [
       "<keras.callbacks.callbacks.History at 0x7f48c813eb38>"
      ]
     },
     "execution_count": 42,
     "metadata": {},
     "output_type": "execute_result"
    }
   ],
   "source": [
    "#We will train a new model with 9-10 epochs as here with 20 model overfitting\n",
    "model.fit(x_partial_train, y_partial_train, batch_size=512, epochs=9, validation_data=(x_val, y_val))"
   ]
  },
  {
   "cell_type": "code",
   "execution_count": 44,
   "id": "d41a2655",
   "metadata": {},
   "outputs": [
    {
     "name": "stdout",
     "output_type": "stream",
     "text": [
      "2246/2246 [==============================] - 0s 86us/step\n"
     ]
    },
    {
     "data": {
      "text/plain": [
       "[1.4100707108063668, 0.7796081900596619]"
      ]
     },
     "execution_count": 44,
     "metadata": {},
     "output_type": "execute_result"
    }
   ],
   "source": [
    "#Evaluting with test data\n",
    "results = model.evaluate(x_test, one_hot_test_labels)\n",
    "results"
   ]
  },
  {
   "cell_type": "markdown",
   "id": "5537022c",
   "metadata": {},
   "source": [
    "Observation: We are geting around 78% accuracy.\n",
    "Lets a create a rendom baseline model and see the accuracy"
   ]
  },
  {
   "cell_type": "code",
   "execution_count": 46,
   "id": "eac27c19",
   "metadata": {},
   "outputs": [
    {
     "data": {
      "text/plain": [
       "0.19768477292965272"
      ]
     },
     "execution_count": 46,
     "metadata": {},
     "output_type": "execute_result"
    }
   ],
   "source": [
    "import copy\n",
    "test_labels_copy = copy.copy(test_labels)\n",
    "np.random.shuffle(test_labels_copy)\n",
    "hits_array = np.array(test_labels) == np.array(test_labels_copy)\n",
    "float(np.sum(hits_array)) / len(test_labels)"
   ]
  },
  {
   "cell_type": "markdown",
   "id": "318024df",
   "metadata": {},
   "source": [
    "Observations: For binary classification if we randomly choose then accuracy will be 50% and here with multicalss random base line model we have 19to 20% accuracy and comapring it with our model we have 79% accuracy which is not bad."
   ]
  },
  {
   "cell_type": "markdown",
   "id": "87955fef",
   "metadata": {},
   "source": [
    "#### Generating prediction on new data"
   ]
  },
  {
   "cell_type": "code",
   "execution_count": 47,
   "id": "8ba5fe95",
   "metadata": {},
   "outputs": [],
   "source": [
    "predictions = model.predict(x_test)"
   ]
  },
  {
   "cell_type": "code",
   "execution_count": 48,
   "id": "8d0b9cb0",
   "metadata": {},
   "outputs": [
    {
     "data": {
      "text/plain": [
       "(46,)"
      ]
     },
     "execution_count": 48,
     "metadata": {},
     "output_type": "execute_result"
    }
   ],
   "source": [
    "predictions[0].shape"
   ]
  },
  {
   "cell_type": "code",
   "execution_count": 49,
   "id": "a982e08b",
   "metadata": {},
   "outputs": [
    {
     "data": {
      "text/plain": [
       "3"
      ]
     },
     "execution_count": 49,
     "metadata": {},
     "output_type": "execute_result"
    }
   ],
   "source": [
    "# The class with the highest probablility\n",
    "np.argmax(predictions[0])"
   ]
  },
  {
   "cell_type": "markdown",
   "id": "14338f4c",
   "metadata": {},
   "source": [
    "### Experiments"
   ]
  },
  {
   "cell_type": "markdown",
   "id": "a39451db",
   "metadata": {},
   "source": [
    "#### With 128 units"
   ]
  },
  {
   "cell_type": "code",
   "execution_count": 51,
   "id": "8e5ae9c5",
   "metadata": {},
   "outputs": [
    {
     "name": "stdout",
     "output_type": "stream",
     "text": [
      "Train on 7982 samples, validate on 1000 samples\n",
      "Epoch 1/9\n",
      "7982/7982 [==============================] - 2s 204us/step - loss: 2.1951 - accuracy: 0.5606 - val_loss: 1.3790 - val_accuracy: 0.6910\n",
      "Epoch 2/9\n",
      "7982/7982 [==============================] - 1s 142us/step - loss: 1.1056 - accuracy: 0.7553 - val_loss: 1.1118 - val_accuracy: 0.7590\n",
      "Epoch 3/9\n",
      "7982/7982 [==============================] - 1s 129us/step - loss: 0.7799 - accuracy: 0.8358 - val_loss: 0.9850 - val_accuracy: 0.7860\n",
      "Epoch 4/9\n",
      "7982/7982 [==============================] - 1s 128us/step - loss: 0.5714 - accuracy: 0.8790 - val_loss: 0.8987 - val_accuracy: 0.8170\n",
      "Epoch 5/9\n",
      "7982/7982 [==============================] - 1s 126us/step - loss: 0.4214 - accuracy: 0.9124 - val_loss: 0.8501 - val_accuracy: 0.8230\n",
      "Epoch 6/9\n",
      "7982/7982 [==============================] - 1s 127us/step - loss: 0.3145 - accuracy: 0.9334 - val_loss: 0.9241 - val_accuracy: 0.8010\n",
      "Epoch 7/9\n",
      "7982/7982 [==============================] - 1s 129us/step - loss: 0.2445 - accuracy: 0.9450 - val_loss: 0.8424 - val_accuracy: 0.8280\n",
      "Epoch 8/9\n",
      "7982/7982 [==============================] - 1s 128us/step - loss: 0.2155 - accuracy: 0.9446 - val_loss: 0.8975 - val_accuracy: 0.8160\n",
      "Epoch 9/9\n",
      "7982/7982 [==============================] - 1s 128us/step - loss: 0.1758 - accuracy: 0.9520 - val_loss: 0.9312 - val_accuracy: 0.8100\n",
      "2246/2246 [==============================] - 0s 101us/step\n"
     ]
    },
    {
     "data": {
      "text/plain": [
       "[1.0098506491415646, 0.7996438145637512]"
      ]
     },
     "execution_count": 51,
     "metadata": {},
     "output_type": "execute_result"
    }
   ],
   "source": [
    "model = models.Sequential()\n",
    "model.add(layers.Dense(128, input_shape=(10000,), activation='relu'))\n",
    "model.add(layers.Dense(128, activation='relu'))\n",
    "model.add(layers.Dense(46, activation='softmax'))\n",
    "model.compile(optimizer='rmsprop', loss='categorical_crossentropy', metrics=['accuracy'])\n",
    "model.fit(x_partial_train, y_partial_train, batch_size=512, epochs=9, validation_data=(x_val, y_val))\n",
    "results = model.evaluate(x_test, one_hot_test_labels)\n",
    "results"
   ]
  },
  {
   "cell_type": "markdown",
   "id": "a4b369fc",
   "metadata": {},
   "source": [
    "Observation: We are getting little bit higher accuracy 79% e.g 2% more than previous model"
   ]
  },
  {
   "cell_type": "markdown",
   "id": "99087907",
   "metadata": {},
   "source": [
    "#### With higher number of intermediate layers"
   ]
  },
  {
   "cell_type": "code",
   "execution_count": 52,
   "id": "153a5dc7",
   "metadata": {},
   "outputs": [
    {
     "name": "stdout",
     "output_type": "stream",
     "text": [
      "Train on 7982 samples, validate on 1000 samples\n",
      "Epoch 1/9\n",
      "7982/7982 [==============================] - 2s 242us/step - loss: 2.1968 - accuracy: 0.5588 - val_loss: 1.3446 - val_accuracy: 0.7070\n",
      "Epoch 2/9\n",
      "7982/7982 [==============================] - 1s 173us/step - loss: 1.0999 - accuracy: 0.7482 - val_loss: 1.1282 - val_accuracy: 0.7420\n",
      "Epoch 3/9\n",
      "7982/7982 [==============================] - 1s 174us/step - loss: 0.7727 - accuracy: 0.8226 - val_loss: 0.9741 - val_accuracy: 0.7930\n",
      "Epoch 4/9\n",
      "7982/7982 [==============================] - 1s 174us/step - loss: 0.5477 - accuracy: 0.8845 - val_loss: 0.9401 - val_accuracy: 0.8160\n",
      "Epoch 5/9\n",
      "7982/7982 [==============================] - 1s 172us/step - loss: 0.3618 - accuracy: 0.9231 - val_loss: 0.9060 - val_accuracy: 0.8240\n",
      "Epoch 6/9\n",
      "7982/7982 [==============================] - 1s 174us/step - loss: 0.2966 - accuracy: 0.9298 - val_loss: 0.9315 - val_accuracy: 0.8110\n",
      "Epoch 7/9\n",
      "7982/7982 [==============================] - 1s 169us/step - loss: 0.2139 - accuracy: 0.9476 - val_loss: 1.0056 - val_accuracy: 0.7970\n",
      "Epoch 8/9\n",
      "7982/7982 [==============================] - 1s 170us/step - loss: 0.1865 - accuracy: 0.9540 - val_loss: 0.9693 - val_accuracy: 0.8210\n",
      "Epoch 9/9\n",
      "7982/7982 [==============================] - 1s 168us/step - loss: 0.1607 - accuracy: 0.9548 - val_loss: 1.0522 - val_accuracy: 0.8090\n",
      "2246/2246 [==============================] - 0s 147us/step\n"
     ]
    },
    {
     "data": {
      "text/plain": [
       "[1.1648311455761442, 0.7853962779045105]"
      ]
     },
     "execution_count": 52,
     "metadata": {},
     "output_type": "execute_result"
    }
   ],
   "source": [
    "model = models.Sequential()\n",
    "model.add(layers.Dense(256, input_shape=(10000,), activation='relu'))\n",
    "model.add(layers.Dense(128, activation='relu'))\n",
    "model.add(layers.Dense(64, activation='relu'))\n",
    "model.add(layers.Dense(46, activation='softmax'))\n",
    "model.compile(optimizer='rmsprop', loss='categorical_crossentropy', metrics=['accuracy'])\n",
    "model.fit(x_partial_train, y_partial_train, batch_size=512, epochs=9, validation_data=(x_val, y_val))\n",
    "results = model.evaluate(x_test, one_hot_test_labels)\n",
    "results"
   ]
  },
  {
   "cell_type": "markdown",
   "id": "9ff53dfd",
   "metadata": {},
   "source": [
    "Observations: Adding more layers didnt help much as only 1% improvement noticed where in previous model we got 2% hike."
   ]
  },
  {
   "cell_type": "code",
   "execution_count": null,
   "id": "44c9f01c",
   "metadata": {},
   "outputs": [],
   "source": []
  }
 ],
 "metadata": {
  "kernelspec": {
   "display_name": "conda_tensorflow2_p36",
   "language": "python",
   "name": "conda_tensorflow2_p36"
  },
  "language_info": {
   "codemirror_mode": {
    "name": "ipython",
    "version": 3
   },
   "file_extension": ".py",
   "mimetype": "text/x-python",
   "name": "python",
   "nbconvert_exporter": "python",
   "pygments_lexer": "ipython3",
   "version": "3.6.13"
  }
 },
 "nbformat": 4,
 "nbformat_minor": 5
}
