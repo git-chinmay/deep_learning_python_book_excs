{
 "cells": [
  {
   "cell_type": "markdown",
   "id": "653ee1f9",
   "metadata": {},
   "source": [
    "### Implementing DeepDream in Keras\n",
    "\n",
    "All ImageNet trained Convnets can be used for DeepDream. The orginal Google implementation used Inception model, hence we will use InceptionV3 here."
   ]
  },
  {
   "cell_type": "markdown",
   "id": "347a7b4c",
   "metadata": {},
   "source": [
    "#### Loading the pretrained Inception V3 model"
   ]
  },
  {
   "cell_type": "code",
   "execution_count": 11,
   "id": "7536c6ce",
   "metadata": {},
   "outputs": [
    {
     "name": "stderr",
     "output_type": "stream",
     "text": [
      "c:\\python39\\lib\\site-packages\\keras\\backend.py:414: UserWarning: `tf.keras.backend.set_learning_phase` is deprecated and will be removed after 2020-10-11. To update it, simply pass a True/False value to the `training` argument of the `__call__` method of your layer or model.\n",
      "  warnings.warn('`tf.keras.backend.set_learning_phase` is deprecated and '\n"
     ]
    }
   ],
   "source": [
    "#from keras.applications import inception_v3\n",
    "#from keras import backend as k\n",
    "\n",
    "from tensorflow.keras.applications import inception_v3\n",
    "from tensorflow.keras import backend as K\n",
    "import tensorflow as tf\n",
    "tf.compat.v1.disable_eager_execution()\n",
    "\n",
    "# We wont be training the model, so this command disables all training specifc operations\n",
    "K.set_learning_phase(0)\n",
    "# Build the Inceptionv3 network without its convolutional base.\n",
    "model = inception_v3.InceptionV3(weights='imagenet', include_top=False)"
   ]
  },
  {
   "cell_type": "markdown",
   "id": "5fc2ff2a",
   "metadata": {},
   "source": [
    "#### Setting up the Deepdream configuration"
   ]
  },
  {
   "cell_type": "code",
   "execution_count": 12,
   "id": "b4a34c94",
   "metadata": {},
   "outputs": [],
   "source": [
    "# Dictionary mapping layer names toa coefficent quantifying how much the layer's activation contribute to the\n",
    "# loss you will seek to maximize. Note that the layer names are hardcoded in the builtin Inception V3 application. \n",
    "# We can list all the layers names using model.summary()\n",
    "\n",
    "layer_contributions = {\n",
    "    'mixed2':0.2,\n",
    "    'mixed3':3.,\n",
    "    'mixed4':2.,\n",
    "    'mixed5':1.5\n",
    "}"
   ]
  },
  {
   "cell_type": "markdown",
   "id": "92f56bbe",
   "metadata": {},
   "source": [
    "#### Defining the loss to be maximized"
   ]
  },
  {
   "cell_type": "code",
   "execution_count": 13,
   "id": "4ca78ec2",
   "metadata": {},
   "outputs": [],
   "source": [
    "# Dictinary that maps layer names to layer instances\n",
    "layer_dict = dict([(layer.name, layer) for layer in model.layers])\n",
    "# We will define the loss by adding layer contribution to this scalar varibale\n",
    "loss = K.variable(0.)\n",
    "\n",
    "for layer_name in layer_contributions:\n",
    "    coeff = layer_contributions[layer_name]\n",
    "    activation = layer_dict[layer_name].output # Retrive the layers output\n",
    "    scaling = K.prod(K.cast(K.shape(activation), 'float32'))\n",
    "    \n",
    "    # Adds the L2 norm of the feature of a layer to the loss. We avoid border artifacts by only involving \n",
    "    # nonborders pixels in the loss\n",
    "    loss = loss + coeff * K.sum(k.square(activation[:, 2: -2, 2: -2, :])) / scaling\n",
    "    "
   ]
  },
  {
   "cell_type": "markdown",
   "id": "cd33a5c3",
   "metadata": {},
   "source": [
    "#### Gradient Access Process"
   ]
  },
  {
   "cell_type": "code",
   "execution_count": 18,
   "id": "6c49da11",
   "metadata": {},
   "outputs": [],
   "source": [
    "\n",
    "# This tensor hold the genrated image(Dream)\n",
    "dream = model.input\n",
    "\n",
    "# Computes the Graident of the dream with regard to the loss\n",
    "grads = K.gradients(loss, dream)[0]\n",
    "#grads = K.tf.GradientTape(loss, dream)[0]\n",
    "\n",
    "# Normalizes the gradients (important trick)\n",
    "grads /= K.maximum(k.mean(k.abs(grads)), 1e-7)\n",
    "\n",
    "# Setup a keras function to retrieve the value of the loss and gradients, given an input image\n",
    "outputs = [loss, grads]\n",
    "fetch_loss_and_grads = K.function([dream], outputs)\n",
    "\n",
    "def eval_loss_and_grad(x):\n",
    "    outs = fetch_loss_and_grads([x])\n",
    "    loss_value = outs[0]\n",
    "    grad_value = outs[1]\n",
    "    return loss_value, grad_value\n",
    "\n",
    "def gradient_ascent(x, iterations, step, max_loss=None):\n",
    "    for i in range(iterations):\n",
    "        loss_value, grad_value = eval_loss_and_grad(x)\n",
    "        if max_loss is not None and loss_value > max_loss:\n",
    "            break\n",
    "        print(f\"... Loss value at {i} is: {loss_value}\")\n",
    "        x += step * grad_value\n",
    "    return x"
   ]
  },
  {
   "cell_type": "markdown",
   "id": "2a4e92f0",
   "metadata": {},
   "source": [
    "#### Auxilary functions"
   ]
  },
  {
   "cell_type": "code",
   "execution_count": 33,
   "id": "0c19ff7c",
   "metadata": {},
   "outputs": [],
   "source": [
    "import scipy.misc\n",
    "import numpy as np\n",
    "from keras.preprocessing import image\n",
    "\n",
    "def resize_img(img, size):\n",
    "    img = np.copy(img)\n",
    "    factors = (1,\n",
    "              float(size[0]) / img.shape[1],\n",
    "              float(size[1]) / img.shape[2],\n",
    "              1)\n",
    "    return scipy.ndimage.zoom(img, factors, order=1)\n",
    "\n",
    "def deprocess_image(x):\n",
    "    \n",
    "    \"\"\"util funtion to convert a tensor into a vlaid image\"\"\"\n",
    "    \n",
    "    if K.image_data_format() == 'channels_first':\n",
    "        x = x.reshape((3, x.shape[2], x.shape[3]))\n",
    "        x = x.transpose((1,2, 0))\n",
    "    else:\n",
    "        # Undoes preprocessing that was performed by inception_v3.preprocess_input\n",
    "        x = x.reshape((x.shape[1], x.shape[2], 3))\n",
    "        \n",
    "    x /= 2.\n",
    "    x += 0.5\n",
    "    x *= 255.\n",
    "    x = np.clip(x, 0, 255).astype('uint8')\n",
    "    return x\n",
    "\n",
    "def store_image(img, fname):\n",
    "    pil_img = deprocess_image(np.copy(img))\n",
    "    scipy.misc.imsave(fname, pil_img)\n",
    "    \n",
    "def preprocess_image(image_path):\n",
    "    \n",
    "    \"\"\"Util function to open, resize and format pictures into tesnors that inceptionv3 can process\"\"\"\n",
    "    img = image.load_img(image_path)\n",
    "    img = image.img_to_array(img)\n",
    "    img = np.expand_dims(img, axis=0)\n",
    "    img = inception_v3.preprocess_input(img)\n",
    "    return img"
   ]
  },
  {
   "cell_type": "markdown",
   "id": "f67d8f37",
   "metadata": {},
   "source": [
    "#### Running gradient ascent over differnt successive scales"
   ]
  },
  {
   "cell_type": "code",
   "execution_count": null,
   "id": "e5149ce0",
   "metadata": {},
   "outputs": [],
   "source": []
  },
  {
   "cell_type": "code",
   "execution_count": 34,
   "id": "accde3e6",
   "metadata": {},
   "outputs": [
    {
     "name": "stdout",
     "output_type": "stream",
     "text": [
      "Processing image shape: (114, 172)\n",
      "... Loss value at 0 is: 0.32009074091911316\n",
      "... Loss value at 1 is: 0.5114031434059143\n",
      "... Loss value at 2 is: 0.7555635571479797\n",
      "... Loss value at 3 is: 1.071947455406189\n",
      "... Loss value at 4 is: 1.3194931745529175\n",
      "... Loss value at 5 is: 1.6119651794433594\n",
      "... Loss value at 6 is: 1.948132038116455\n",
      "... Loss value at 7 is: 2.236406087875366\n",
      "... Loss value at 8 is: 2.478644847869873\n",
      "... Loss value at 9 is: 2.7263166904449463\n",
      "... Loss value at 10 is: 3.023282051086426\n",
      "... Loss value at 11 is: 3.3697478771209717\n",
      "... Loss value at 12 is: 3.5776703357696533\n",
      "... Loss value at 13 is: 3.95090913772583\n",
      "... Loss value at 14 is: 4.229702949523926\n",
      "... Loss value at 15 is: 4.439328670501709\n",
      "... Loss value at 16 is: 4.7202982902526855\n",
      "... Loss value at 17 is: 5.007373809814453\n",
      "... Loss value at 18 is: 5.332851886749268\n",
      "... Loss value at 19 is: 5.612526893615723\n"
     ]
    },
    {
     "ename": "AttributeError",
     "evalue": "module 'scipy.misc' has no attribute 'imsave'",
     "output_type": "error",
     "traceback": [
      "\u001b[1;31m---------------------------------------------------------------------------\u001b[0m",
      "\u001b[1;31mAttributeError\u001b[0m                            Traceback (most recent call last)",
      "\u001b[1;32m~\\AppData\\Local\\Temp/ipykernel_4708/2466463938.py\u001b[0m in \u001b[0;36m<module>\u001b[1;34m\u001b[0m\n\u001b[0;32m     43\u001b[0m     \u001b[0mimg\u001b[0m \u001b[1;33m+=\u001b[0m \u001b[0mlost_detail\u001b[0m\u001b[1;33m\u001b[0m\u001b[1;33m\u001b[0m\u001b[0m\n\u001b[0;32m     44\u001b[0m     \u001b[0mshrunk_original_img\u001b[0m \u001b[1;33m=\u001b[0m \u001b[0mresize_img\u001b[0m\u001b[1;33m(\u001b[0m\u001b[0moriginal_img\u001b[0m\u001b[1;33m,\u001b[0m \u001b[0mshape\u001b[0m\u001b[1;33m)\u001b[0m\u001b[1;33m\u001b[0m\u001b[1;33m\u001b[0m\u001b[0m\n\u001b[1;32m---> 45\u001b[1;33m     \u001b[0mstore_image\u001b[0m\u001b[1;33m(\u001b[0m\u001b[0mimg\u001b[0m\u001b[1;33m,\u001b[0m \u001b[0mfname\u001b[0m\u001b[1;33m=\u001b[0m\u001b[1;34mf\"dream_at_scale{str(shape)}.png\"\u001b[0m\u001b[1;33m)\u001b[0m\u001b[1;33m\u001b[0m\u001b[1;33m\u001b[0m\u001b[0m\n\u001b[0m\u001b[0;32m     46\u001b[0m \u001b[1;33m\u001b[0m\u001b[0m\n\u001b[0;32m     47\u001b[0m \u001b[0mstore_image\u001b[0m\u001b[1;33m(\u001b[0m\u001b[0mimg\u001b[0m\u001b[1;33m,\u001b[0m \u001b[0mfname\u001b[0m\u001b[1;33m=\u001b[0m\u001b[1;34m'final_dream.png'\u001b[0m\u001b[1;33m)\u001b[0m\u001b[1;33m\u001b[0m\u001b[1;33m\u001b[0m\u001b[0m\n",
      "\u001b[1;32m~\\AppData\\Local\\Temp/ipykernel_4708/11361094.py\u001b[0m in \u001b[0;36mstore_image\u001b[1;34m(img, fname)\u001b[0m\n\u001b[0;32m     30\u001b[0m \u001b[1;32mdef\u001b[0m \u001b[0mstore_image\u001b[0m\u001b[1;33m(\u001b[0m\u001b[0mimg\u001b[0m\u001b[1;33m,\u001b[0m \u001b[0mfname\u001b[0m\u001b[1;33m)\u001b[0m\u001b[1;33m:\u001b[0m\u001b[1;33m\u001b[0m\u001b[1;33m\u001b[0m\u001b[0m\n\u001b[0;32m     31\u001b[0m     \u001b[0mpil_img\u001b[0m \u001b[1;33m=\u001b[0m \u001b[0mdeprocess_image\u001b[0m\u001b[1;33m(\u001b[0m\u001b[0mnp\u001b[0m\u001b[1;33m.\u001b[0m\u001b[0mcopy\u001b[0m\u001b[1;33m(\u001b[0m\u001b[0mimg\u001b[0m\u001b[1;33m)\u001b[0m\u001b[1;33m)\u001b[0m\u001b[1;33m\u001b[0m\u001b[1;33m\u001b[0m\u001b[0m\n\u001b[1;32m---> 32\u001b[1;33m     \u001b[0mscipy\u001b[0m\u001b[1;33m.\u001b[0m\u001b[0mmisc\u001b[0m\u001b[1;33m.\u001b[0m\u001b[0mimsave\u001b[0m\u001b[1;33m(\u001b[0m\u001b[0mfname\u001b[0m\u001b[1;33m,\u001b[0m \u001b[0mpil_img\u001b[0m\u001b[1;33m)\u001b[0m\u001b[1;33m\u001b[0m\u001b[1;33m\u001b[0m\u001b[0m\n\u001b[0m\u001b[0;32m     33\u001b[0m \u001b[1;33m\u001b[0m\u001b[0m\n\u001b[0;32m     34\u001b[0m \u001b[1;32mdef\u001b[0m \u001b[0mpreprocess_image\u001b[0m\u001b[1;33m(\u001b[0m\u001b[0mimage_path\u001b[0m\u001b[1;33m)\u001b[0m\u001b[1;33m:\u001b[0m\u001b[1;33m\u001b[0m\u001b[1;33m\u001b[0m\u001b[0m\n",
      "\u001b[1;31mAttributeError\u001b[0m: module 'scipy.misc' has no attribute 'imsave'"
     ]
    }
   ],
   "source": [
    "import numpy as np\n",
    "\n",
    "# Playing with these hyperparameters will let us achieve new effects\n",
    "step = 0.01         # GA step size\n",
    "num_octave = 3      # No of scales at which to run GA\n",
    "octave_scale = 1.4  # Size ratio between scales\n",
    "iterations = 20     # Nof of ascent steps to run at each scale\n",
    "max_loss = 10.      # loss grows > 10, we'll interrupt the GA to avoid ugly artifacts\n",
    "base_image_path = './base_image/th.jpg'\n",
    "img = preprocess_image(base_image_path)\n",
    "original_shape = img.shape[1:3]\n",
    "\n",
    "# Prepare a list of shape tuples defining the different scales at which to run gradient ascent\n",
    "successive_shapes = [original_shape]\n",
    "for i in range(1, num_octave):\n",
    "    shape = tuple([int(dim / (octave_scale ** i)) for dim in original_shape])\n",
    "    successive_shapes.append(shape)\n",
    "# Reverse the list of shapes so they are in increasing order\n",
    "successive_shapes = successive_shapes[::-1]\n",
    "\n",
    "# Resizes the Numpy array of the image to the smallest scale\n",
    "original_img = np.copy(img)\n",
    "shrunk_original_img = resize_img(img, successive_shapes[0])\n",
    "\n",
    "for shape in successive_shapes:\n",
    "    print(f\"Processing image shape: {shape}\")\n",
    "    # Scale up the dream image\n",
    "    img = resize_img(img, shape)\n",
    "    img = gradient_ascent(img,\n",
    "                         iterations=iterations,\n",
    "                         step=step,\n",
    "                         max_loss=max_loss)\n",
    "    # Scales up the smaller version of the original image: it will be pixelated\n",
    "    upscaled_shrunk_original_img = resize_img(shrunk_original_img, shape)\n",
    "    \n",
    "    # Compute the high quality version of the original image at this size\n",
    "    same_size_original = resize_img(original_img, shape)\n",
    "    \n",
    "    # The difference between the two is the details that was lost whyen scaling up.\n",
    "    lost_detail = same_size_original - upscaled_shrunk_original_img\n",
    "    \n",
    "    # Reinjects lost details into the dream\n",
    "    img += lost_detail\n",
    "    shrunk_original_img = resize_img(original_img, shape)\n",
    "    store_image(img, fname=f\"dream_at_scale{str(shape)}.png\")\n",
    "\n",
    "store_image(img, fname='final_dream.png')"
   ]
  },
  {
   "cell_type": "code",
   "execution_count": 38,
   "id": "979b3824",
   "metadata": {},
   "outputs": [],
   "source": [
    "import matplotlib.pyplot as plt\n",
    "#from StringIO import StringIO\n",
    "from io import StringIO\n",
    "s = StringIO()\n",
    "plt.imsave(s, img)\n"
   ]
  },
  {
   "cell_type": "code",
   "execution_count": null,
   "id": "b10f7bb8",
   "metadata": {},
   "outputs": [],
   "source": []
  }
 ],
 "metadata": {
  "kernelspec": {
   "display_name": "Python 3 (ipykernel)",
   "language": "python",
   "name": "python3"
  },
  "language_info": {
   "codemirror_mode": {
    "name": "ipython",
    "version": 3
   },
   "file_extension": ".py",
   "mimetype": "text/x-python",
   "name": "python",
   "nbconvert_exporter": "python",
   "pygments_lexer": "ipython3",
   "version": "3.7.11"
  }
 },
 "nbformat": 4,
 "nbformat_minor": 5
}
