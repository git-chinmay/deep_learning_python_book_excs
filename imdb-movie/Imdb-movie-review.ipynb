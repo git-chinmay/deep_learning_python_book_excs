{
 "cells": [
  {
   "cell_type": "markdown",
   "id": "6f56f9b1",
   "metadata": {},
   "source": [
    "# Classifying movie reviews\n",
    "### Using inbuilt imdb dataset from keras library"
   ]
  },
  {
   "cell_type": "markdown",
   "id": "614105d9",
   "metadata": {},
   "source": [
    "## About the dataset\n",
    "### Total 50000 samples which divided into two sets\n",
    "> Training set = 25000\n",
    "\n",
    "> Testing set = 25000\n",
    "\n",
    ". Each set conatains 50% positive and 50% negative reviews\n",
    "\n",
    ". The keras prepackaged dataset is alsready preprocessed"
   ]
  },
  {
   "cell_type": "markdown",
   "id": "a0007f4e",
   "metadata": {},
   "source": [
    "### Loading the IMDB dataset"
   ]
  },
  {
   "cell_type": "code",
   "execution_count": 4,
   "id": "3f8b62dd",
   "metadata": {},
   "outputs": [],
   "source": [
    "from keras.datasets import imdb"
   ]
  },
  {
   "cell_type": "code",
   "execution_count": 6,
   "id": "44910868",
   "metadata": {},
   "outputs": [
    {
     "name": "stdout",
     "output_type": "stream",
     "text": [
      "Downloading data from https://storage.googleapis.com/tensorflow/tf-keras-datasets/imdb.npz\n",
      "17465344/17464789 [==============================] - 2s 0us/step\n",
      "17473536/17464789 [==============================] - 2s 0us/step\n"
     ]
    },
    {
     "name": "stderr",
     "output_type": "stream",
     "text": [
      "<string>:6: VisibleDeprecationWarning: Creating an ndarray from ragged nested sequences (which is a list-or-tuple of lists-or-tuples-or ndarrays with different lengths or shapes) is deprecated. If you meant to do this, you must specify 'dtype=object' when creating the ndarray\n",
      "C:\\Users\\522817\\OneDrive - Cognizant\\myWorks\\ML\\project-dl-book\\envs\\lib\\site-packages\\keras\\datasets\\imdb.py:155: VisibleDeprecationWarning: Creating an ndarray from ragged nested sequences (which is a list-or-tuple of lists-or-tuples-or ndarrays with different lengths or shapes) is deprecated. If you meant to do this, you must specify 'dtype=object' when creating the ndarray\n",
      "  x_train, y_train = np.array(xs[:idx]), np.array(labels[:idx])\n",
      "C:\\Users\\522817\\OneDrive - Cognizant\\myWorks\\ML\\project-dl-book\\envs\\lib\\site-packages\\keras\\datasets\\imdb.py:156: VisibleDeprecationWarning: Creating an ndarray from ragged nested sequences (which is a list-or-tuple of lists-or-tuples-or ndarrays with different lengths or shapes) is deprecated. If you meant to do this, you must specify 'dtype=object' when creating the ndarray\n",
      "  x_test, y_test = np.array(xs[idx:]), np.array(labels[idx:])\n"
     ]
    }
   ],
   "source": [
    "#The argument 10000 means we will only keep top 10K most frequently occuring words\n",
    "(train_data, train_labels), (test_data, test_labels) = imdb.load_data(num_words=10000)"
   ]
  },
  {
   "cell_type": "code",
   "execution_count": 8,
   "id": "832e3887",
   "metadata": {},
   "outputs": [
    {
     "data": {
      "text/plain": [
       "([1,\n",
       "  14,\n",
       "  22,\n",
       "  16,\n",
       "  43,\n",
       "  530,\n",
       "  973,\n",
       "  1622,\n",
       "  1385,\n",
       "  65,\n",
       "  458,\n",
       "  4468,\n",
       "  66,\n",
       "  3941,\n",
       "  4,\n",
       "  173,\n",
       "  36,\n",
       "  256,\n",
       "  5,\n",
       "  25,\n",
       "  100,\n",
       "  43,\n",
       "  838,\n",
       "  112,\n",
       "  50,\n",
       "  670,\n",
       "  2,\n",
       "  9,\n",
       "  35,\n",
       "  480,\n",
       "  284,\n",
       "  5,\n",
       "  150,\n",
       "  4,\n",
       "  172,\n",
       "  112,\n",
       "  167,\n",
       "  2,\n",
       "  336,\n",
       "  385,\n",
       "  39,\n",
       "  4,\n",
       "  172,\n",
       "  4536,\n",
       "  1111,\n",
       "  17,\n",
       "  546,\n",
       "  38,\n",
       "  13,\n",
       "  447,\n",
       "  4,\n",
       "  192,\n",
       "  50,\n",
       "  16,\n",
       "  6,\n",
       "  147,\n",
       "  2025,\n",
       "  19,\n",
       "  14,\n",
       "  22,\n",
       "  4,\n",
       "  1920,\n",
       "  4613,\n",
       "  469,\n",
       "  4,\n",
       "  22,\n",
       "  71,\n",
       "  87,\n",
       "  12,\n",
       "  16,\n",
       "  43,\n",
       "  530,\n",
       "  38,\n",
       "  76,\n",
       "  15,\n",
       "  13,\n",
       "  1247,\n",
       "  4,\n",
       "  22,\n",
       "  17,\n",
       "  515,\n",
       "  17,\n",
       "  12,\n",
       "  16,\n",
       "  626,\n",
       "  18,\n",
       "  2,\n",
       "  5,\n",
       "  62,\n",
       "  386,\n",
       "  12,\n",
       "  8,\n",
       "  316,\n",
       "  8,\n",
       "  106,\n",
       "  5,\n",
       "  4,\n",
       "  2223,\n",
       "  5244,\n",
       "  16,\n",
       "  480,\n",
       "  66,\n",
       "  3785,\n",
       "  33,\n",
       "  4,\n",
       "  130,\n",
       "  12,\n",
       "  16,\n",
       "  38,\n",
       "  619,\n",
       "  5,\n",
       "  25,\n",
       "  124,\n",
       "  51,\n",
       "  36,\n",
       "  135,\n",
       "  48,\n",
       "  25,\n",
       "  1415,\n",
       "  33,\n",
       "  6,\n",
       "  22,\n",
       "  12,\n",
       "  215,\n",
       "  28,\n",
       "  77,\n",
       "  52,\n",
       "  5,\n",
       "  14,\n",
       "  407,\n",
       "  16,\n",
       "  82,\n",
       "  2,\n",
       "  8,\n",
       "  4,\n",
       "  107,\n",
       "  117,\n",
       "  5952,\n",
       "  15,\n",
       "  256,\n",
       "  4,\n",
       "  2,\n",
       "  7,\n",
       "  3766,\n",
       "  5,\n",
       "  723,\n",
       "  36,\n",
       "  71,\n",
       "  43,\n",
       "  530,\n",
       "  476,\n",
       "  26,\n",
       "  400,\n",
       "  317,\n",
       "  46,\n",
       "  7,\n",
       "  4,\n",
       "  2,\n",
       "  1029,\n",
       "  13,\n",
       "  104,\n",
       "  88,\n",
       "  4,\n",
       "  381,\n",
       "  15,\n",
       "  297,\n",
       "  98,\n",
       "  32,\n",
       "  2071,\n",
       "  56,\n",
       "  26,\n",
       "  141,\n",
       "  6,\n",
       "  194,\n",
       "  7486,\n",
       "  18,\n",
       "  4,\n",
       "  226,\n",
       "  22,\n",
       "  21,\n",
       "  134,\n",
       "  476,\n",
       "  26,\n",
       "  480,\n",
       "  5,\n",
       "  144,\n",
       "  30,\n",
       "  5535,\n",
       "  18,\n",
       "  51,\n",
       "  36,\n",
       "  28,\n",
       "  224,\n",
       "  92,\n",
       "  25,\n",
       "  104,\n",
       "  4,\n",
       "  226,\n",
       "  65,\n",
       "  16,\n",
       "  38,\n",
       "  1334,\n",
       "  88,\n",
       "  12,\n",
       "  16,\n",
       "  283,\n",
       "  5,\n",
       "  16,\n",
       "  4472,\n",
       "  113,\n",
       "  103,\n",
       "  32,\n",
       "  15,\n",
       "  16,\n",
       "  5345,\n",
       "  19,\n",
       "  178,\n",
       "  32],\n",
       " 1)"
      ]
     },
     "execution_count": 8,
     "metadata": {},
     "output_type": "execute_result"
    }
   ],
   "source": [
    "#Each review is a list of word indices of 10k most frequent occured words dictionary\n",
    "#Remember here tran and test data contains word indices of most frequest words, nothing else\n",
    "train_data[0], train_labels[0]"
   ]
  },
  {
   "cell_type": "code",
   "execution_count": 15,
   "id": "97b54718",
   "metadata": {},
   "outputs": [
    {
     "name": "stdout",
     "output_type": "stream",
     "text": [
      "218\n",
      "189\n",
      "141\n",
      "550\n",
      "147\n",
      "43\n"
     ]
    }
   ],
   "source": [
    "#As we are restricting to the 10K, the review lngth never exceeds 10K\n",
    "count = 0\n",
    "for reviw in train_data:\n",
    "    #print(seq)\n",
    "    print(len(reviw))\n",
    "    count += 1\n",
    "    if count > 5:\n",
    "        break"
   ]
  },
  {
   "cell_type": "code",
   "execution_count": 17,
   "id": "2fdbcb90",
   "metadata": {},
   "outputs": [
    {
     "data": {
      "text/plain": [
       "9999"
      ]
     },
     "execution_count": 17,
     "metadata": {},
     "output_type": "execute_result"
    }
   ],
   "source": [
    "# The maximum index will be 9999\n",
    "max([max(rev) for rev in train_data])"
   ]
  },
  {
   "cell_type": "code",
   "execution_count": 23,
   "id": "91c6d54d",
   "metadata": {},
   "outputs": [
    {
     "data": {
      "text/plain": [
       "\"? this film was just brilliant casting location scenery story direction everyone's really suited the part they played and you could just imagine being there robert ? is an amazing actor and now the same being director ? father came from the same scottish island as myself so i loved the fact there was a real connection with this film the witty remarks throughout the film were great it was just brilliant so much that i bought the film as soon as it was released for ? and would recommend it to everyone to watch and the fly fishing was amazing really cried at the end it was so sad and you know what they say if you cry at a film it must have been good and this definitely was also ? to the two little boy's that played the ? of norman and paul they were just brilliant children are often left out of the ? list i think because the stars that play them all grown up are such a big profile for the whole film but these children are amazing and should be praised for what they have done don't you think the whole story was so lovely because it was true and was someone's life after all that was shared with us all\""
      ]
     },
     "execution_count": 23,
     "metadata": {},
     "output_type": "execute_result"
    }
   ],
   "source": [
    "review_index = 0 #can choose between 0 to 24999 (train data 25k)\n",
    "word_index = imdb.get_word_index()\n",
    "reverse_word_index = dict([(value, key) for (key, value) in word_index.items()])\n",
    "decoded_review = ' '.join(reverse_word_index.get(i - 3, '?') for i in train_data[review_index])\n",
    "decoded_review"
   ]
  },
  {
   "cell_type": "code",
   "execution_count": 24,
   "id": "e8ebcbb6",
   "metadata": {},
   "outputs": [
    {
     "data": {
      "text/plain": [
       "1113"
      ]
     },
     "execution_count": 24,
     "metadata": {},
     "output_type": "execute_result"
    }
   ],
   "source": [
    "len(decoded_review)"
   ]
  },
  {
   "cell_type": "code",
   "execution_count": 25,
   "id": "139baf83",
   "metadata": {},
   "outputs": [],
   "source": [
    "#The review has 1113 words in it but while preprocessign it 10K dictionary we have only 218 words matched hence the vector length of review 0 is 218 length"
   ]
  },
  {
   "cell_type": "markdown",
   "id": "53631287",
   "metadata": {},
   "source": [
    "### Preparing the data\n",
    "We can not sent the list of integers to model, we have to convert it into tensors. We can get a input shape as (samples, word_indices), a 2D tensor. We can do this by using one of the methods below\n",
    "\n",
    "1) One hot encoding:-\n",
    "> We can convert the each list into a 10k length binary vectors and feed them to a dense layer as input layer\n",
    "\n",
    "2) Padding:-\n",
    "> By padding each list we can make them all of same legth and then feed them to a Embedding layer as input layer.\n",
    "\n",
    "Lets use the 1st method"
   ]
  },
  {
   "cell_type": "code",
   "execution_count": 33,
   "id": "53a3a010",
   "metadata": {},
   "outputs": [],
   "source": [
    "import numpy as np\n",
    "def vectorize_sequences(sequence, dimension=10000):\n",
    "    results = np.zeros((len(sequence), dimension))\n",
    "    for i, sequence in enumerate(sequence):\n",
    "        results[i, sequence] = 1. #sets specific indices of results[i] to 1\n",
    "    return results"
   ]
  },
  {
   "cell_type": "code",
   "execution_count": 51,
   "id": "cfcbd97c",
   "metadata": {},
   "outputs": [
    {
     "name": "stdout",
     "output_type": "stream",
     "text": [
      "0: 9\n",
      "[0. 0. 0. 0. 0. 0. 0. 0. 0. 1.]\n",
      "\n",
      "1: 3\n",
      "[0. 0. 0. 1. 0. 0. 0. 0. 0. 0.]\n",
      "\n",
      "2: 4\n",
      "[0. 0. 0. 0. 1. 0. 0. 0. 0. 0.]\n",
      "\n",
      "3: 7\n",
      "[0. 0. 0. 0. 0. 0. 0. 1. 0. 0.]\n",
      "\n",
      "4: 8\n",
      "[0. 0. 0. 0. 0. 0. 0. 0. 1. 0.]\n",
      "\n",
      "[[0. 0. 0. 0. 0. 0. 0. 0. 0. 1.]\n",
      " [0. 0. 0. 1. 0. 0. 0. 0. 0. 0.]\n",
      " [0. 0. 0. 0. 1. 0. 0. 0. 0. 0.]\n",
      " [0. 0. 0. 0. 0. 0. 0. 1. 0. 0.]\n",
      " [0. 0. 0. 0. 0. 0. 0. 0. 1. 0.]]\n"
     ]
    }
   ],
   "source": [
    "#To understand how the above functions works\n",
    "seq = [9,3,4,7,8]\n",
    "dim = 10\n",
    "results = np.zeros((len(seq), dim))\n",
    "for i, item in enumerate(seq):\n",
    "    print(f\"{i}: {item}\")\n",
    "    results[i, item] = 1\n",
    "    print(results[i])\n",
    "    print()\n",
    "print(results)"
   ]
  },
  {
   "cell_type": "code",
   "execution_count": 34,
   "id": "06c4d47e",
   "metadata": {},
   "outputs": [],
   "source": [
    "#Vectorize train and test data\n",
    "X_train = vectorize_sequences(train_data)\n",
    "X_test = vectorize_sequences(test_data)"
   ]
  },
  {
   "cell_type": "code",
   "execution_count": 38,
   "id": "63fc7e86",
   "metadata": {},
   "outputs": [
    {
     "data": {
      "text/plain": [
       "(218, array([0., 1., 1., ..., 0., 0., 0.]), 10000)"
      ]
     },
     "execution_count": 38,
     "metadata": {},
     "output_type": "execute_result"
    }
   ],
   "source": [
    "len(train_data[0]), X_train[0], len(X_train[0])"
   ]
  },
  {
   "cell_type": "code",
   "execution_count": 55,
   "id": "2fed578c",
   "metadata": {},
   "outputs": [
    {
     "name": "stdout",
     "output_type": "stream",
     "text": [
      "25000\n",
      "Top 5 review: [1 0 0 1 0]\n",
      "<class 'numpy.ndarray'>\n",
      "Top 5 review: [1. 0. 0. 1. 0.]\n",
      "<class 'numpy.ndarray'>\n"
     ]
    }
   ],
   "source": [
    "#COnverting the label data\n",
    "print(len(train_labels))\n",
    "print(f\"Top 5 review: {train_labels[:5]}\")\n",
    "print(type(train_labels))\n",
    "y_train = np.asarray(train_labels).astype('float32')\n",
    "y_test = np.asarray(test_labels).astype('float32')\n",
    "print(f\"Top 5 review: {y_train[:5]}\")\n",
    "print(type(y_train))"
   ]
  },
  {
   "cell_type": "markdown",
   "id": "339a6198",
   "metadata": {},
   "source": [
    "### Building the Network\n",
    "Here our input is a vector and output is a scaler. This is the easiest setup ever come across. For this type of setup a stack of dense layer will perform well.\n",
    "\n",
    "When each item/review is a 10K dimensional vector\n",
    "\n",
    "There are two key architechture decisions to be made about such a stack of Dense layers\n",
    "> How many layers to use\n",
    "\n",
    "> How many hidden units to choose for each layer\n",
    "\n",
    "Each intermediate unit output can be seen as below: \n",
    "> output = relu(dot(W, input) + bias)\n",
    "\n",
    "For our purpose we will use a below architenchture\n",
    "> Two intermediate dense layer \n",
    "\n",
    "> Each layer with 16 units (the first layer will take 10K data & produce 16 data points)\n",
    "\n",
    "> Output layer with sigmoid to get probability distribution between 1 and 0"
   ]
  },
  {
   "cell_type": "code",
   "execution_count": 60,
   "id": "a3ba240e",
   "metadata": {},
   "outputs": [],
   "source": [
    "#Model Defination\n",
    "from keras import models\n",
    "from keras import layers\n",
    "\n",
    "model = models.Sequential()\n",
    "model.add(layers.Dense(16, input_shape=(10000,), activation='relu'))\n",
    "model.add(layers.Dense(16,activation='relu'))\n",
    "model.add(layers.Dense(1,activation='sigmoid'))\n",
    "\n",
    "#Compiling\n",
    "model.compile(optimizer='rmsprop', loss='binary_crossentropy', metrics=['accuracy'])"
   ]
  },
  {
   "cell_type": "code",
   "execution_count": null,
   "id": "64038682",
   "metadata": {},
   "outputs": [],
   "source": [
    "\"\"\"\n",
    "#Compiling with configured optimizer or loss or metrics\n",
    "from keras import optimizers\n",
    "from keras import losses\n",
    "from keras import metrics\n",
    "\n",
    "model.compile(optimizer=optimizers.RMSprop(learning_rate=0.001),\n",
    "             loss=losses.binary_crossentropy,\n",
    "             metrics=[metrics.binary_accuracy])\n",
    "\"\"\""
   ]
  },
  {
   "cell_type": "markdown",
   "id": "c5f07705",
   "metadata": {},
   "source": [
    "### Validation Data\n",
    "In order to monitor the accuracy of the model on the data it has never seen before (during training) we will take away some chunk of the train data as validtion data."
   ]
  },
  {
   "cell_type": "code",
   "execution_count": 63,
   "id": "61c6a92c",
   "metadata": {},
   "outputs": [],
   "source": [
    "X_val = X_train[:10000]\n",
    "X_partial_train = X_train[10000:]\n",
    "y_val = y_train[:10000]\n",
    "y_partial_train = y_train[10000:]"
   ]
  },
  {
   "cell_type": "markdown",
   "id": "0db88853",
   "metadata": {},
   "source": [
    "### Training the model"
   ]
  },
  {
   "cell_type": "code",
   "execution_count": 64,
   "id": "6a60d55b",
   "metadata": {},
   "outputs": [
    {
     "name": "stdout",
     "output_type": "stream",
     "text": [
      "Epoch 1/20\n",
      "30/30 [==============================] - 51s 359ms/step - loss: 0.6007 - accuracy: 0.6884 - val_loss: 0.4153 - val_accuracy: 0.8512\n",
      "Epoch 2/20\n",
      "30/30 [==============================] - 2s 52ms/step - loss: 0.3554 - accuracy: 0.8967 - val_loss: 0.3435 - val_accuracy: 0.8615\n",
      "Epoch 3/20\n",
      "30/30 [==============================] - 1s 35ms/step - loss: 0.2496 - accuracy: 0.9216 - val_loss: 0.2878 - val_accuracy: 0.8851\n",
      "Epoch 4/20\n",
      "30/30 [==============================] - 1s 31ms/step - loss: 0.1786 - accuracy: 0.9415 - val_loss: 0.2753 - val_accuracy: 0.8884\n",
      "Epoch 5/20\n",
      "30/30 [==============================] - 1s 34ms/step - loss: 0.1404 - accuracy: 0.9597 - val_loss: 0.3021 - val_accuracy: 0.8830\n",
      "Epoch 6/20\n",
      "30/30 [==============================] - 1s 36ms/step - loss: 0.1188 - accuracy: 0.9657 - val_loss: 0.3055 - val_accuracy: 0.8836\n",
      "Epoch 7/20\n",
      "30/30 [==============================] - 1s 32ms/step - loss: 0.0932 - accuracy: 0.9745 - val_loss: 0.3102 - val_accuracy: 0.8838\n",
      "Epoch 8/20\n",
      "30/30 [==============================] - 1s 31ms/step - loss: 0.0764 - accuracy: 0.9811 - val_loss: 0.3379 - val_accuracy: 0.8751\n",
      "Epoch 9/20\n",
      "30/30 [==============================] - 1s 30ms/step - loss: 0.0636 - accuracy: 0.9843 - val_loss: 0.3540 - val_accuracy: 0.8767\n",
      "Epoch 10/20\n",
      "30/30 [==============================] - 1s 32ms/step - loss: 0.0524 - accuracy: 0.9872 - val_loss: 0.4074 - val_accuracy: 0.8748\n",
      "Epoch 11/20\n",
      "30/30 [==============================] - 1s 33ms/step - loss: 0.0400 - accuracy: 0.9925 - val_loss: 0.4074 - val_accuracy: 0.8718\n",
      "Epoch 12/20\n",
      "30/30 [==============================] - 1s 30ms/step - loss: 0.0334 - accuracy: 0.9931 - val_loss: 0.4925 - val_accuracy: 0.8572\n",
      "Epoch 13/20\n",
      "30/30 [==============================] - 1s 29ms/step - loss: 0.0274 - accuracy: 0.9940 - val_loss: 0.4588 - val_accuracy: 0.8703\n",
      "Epoch 14/20\n",
      "30/30 [==============================] - 1s 30ms/step - loss: 0.0181 - accuracy: 0.9978 - val_loss: 0.5584 - val_accuracy: 0.8665\n",
      "Epoch 15/20\n",
      "30/30 [==============================] - 1s 31ms/step - loss: 0.0174 - accuracy: 0.9976 - val_loss: 0.5462 - val_accuracy: 0.8696\n",
      "Epoch 16/20\n",
      "30/30 [==============================] - 1s 30ms/step - loss: 0.0131 - accuracy: 0.9981 - val_loss: 0.5567 - val_accuracy: 0.8681\n",
      "Epoch 17/20\n",
      "30/30 [==============================] - 1s 31ms/step - loss: 0.0081 - accuracy: 0.9995 - val_loss: 0.5904 - val_accuracy: 0.8638\n",
      "Epoch 18/20\n",
      "30/30 [==============================] - 1s 30ms/step - loss: 0.0086 - accuracy: 0.9991 - val_loss: 0.6245 - val_accuracy: 0.8688\n",
      "Epoch 19/20\n",
      "30/30 [==============================] - 1s 30ms/step - loss: 0.0050 - accuracy: 0.9996 - val_loss: 0.6421 - val_accuracy: 0.8649\n",
      "Epoch 20/20\n",
      "30/30 [==============================] - 1s 32ms/step - loss: 0.0034 - accuracy: 0.9998 - val_loss: 0.6834 - val_accuracy: 0.8657\n"
     ]
    }
   ],
   "source": [
    "history = model.fit(X_partial_train, y_partial_train, epochs=20, batch_size=512, validation_data=(X_val,y_val))"
   ]
  },
  {
   "cell_type": "code",
   "execution_count": 65,
   "id": "fbe5a798",
   "metadata": {},
   "outputs": [
    {
     "data": {
      "text/plain": [
       "dict_keys(['loss', 'accuracy', 'val_loss', 'val_accuracy'])"
      ]
     },
     "execution_count": 65,
     "metadata": {},
     "output_type": "execute_result"
    }
   ],
   "source": [
    "history_dict=history.history\n",
    "history_dict.keys()"
   ]
  },
  {
   "cell_type": "markdown",
   "id": "f5768083",
   "metadata": {},
   "source": [
    "### Plotting the result"
   ]
  },
  {
   "cell_type": "code",
   "execution_count": 70,
   "id": "9563ad40",
   "metadata": {},
   "outputs": [
    {
     "data": {
      "image/png": "[encoded data removed]",
      "text/plain": [
       "<Figure size 432x288 with 1 Axes>"
      ]
     },
     "metadata": {
      "needs_background": "light"
     },
     "output_type": "display_data"
    }
   ],
   "source": [
    "# Train loss vs validation loss\n",
    "import matplotlib.pyplot as plt\n",
    "train_loss_values = history_dict['loss']\n",
    "val_loss_values = history_dict['val_loss']\n",
    "epochs = range(1, len(history_dict['accuracy']) + 1)\n",
    "\n",
    "plt.plot(epochs, train_loss_values, 'bo', label='train_loss')\n",
    "plt.plot(epochs, val_loss_values, 'b', label='val_loss')\n",
    "plt.title(\"Training vs validation loss\")\n",
    "plt.xlabel('Epochs')\n",
    "plt.ylabel('Loss')\n",
    "plt.legend()\n",
    "plt.show()"
   ]
  },
  {
   "cell_type": "code",
   "execution_count": 71,
   "id": "ae7871d7",
   "metadata": {},
   "outputs": [
    {
     "data": {
      "image/png": "[encoded data removed]",
      "text/plain": [
       "<Figure size 432x288 with 1 Axes>"
      ]
     },
     "metadata": {
      "needs_background": "light"
     },
     "output_type": "display_data"
    }
   ],
   "source": [
    "train_acc_values = history_dict['accuracy']\n",
    "val_acc_values = history_dict['val_accuracy']\n",
    "epochs = range(1, len(history_dict['accuracy']) + 1)\n",
    "\n",
    "plt.plot(epochs, train_acc_values, 'bo', label='train_acc')\n",
    "plt.plot(epochs, val_acc_values, 'b', label='val_acc')\n",
    "plt.title(\"Training vs validation accuracy\")\n",
    "plt.xlabel('Epochs')\n",
    "plt.ylabel('Accuracy')\n",
    "plt.legend()\n",
    "plt.show()"
   ]
  },
  {
   "cell_type": "markdown",
   "id": "7e90ae91",
   "metadata": {},
   "source": [
    "### Observations:\n",
    "After 2nd epoch we are overoptimizing the model on trainig data, hence end up learning represenations that are specific to the training data and dont generalise to the data outside of the training set. Its overfitting.\n",
    "\n",
    "Two prevent this we can take several measure but now we will retrain the model with less epochs."
   ]
  },
  {
   "cell_type": "code",
   "execution_count": 73,
   "id": "a502b7df",
   "metadata": {},
   "outputs": [
    {
     "name": "stdout",
     "output_type": "stream",
     "text": [
      "Epoch 1/4\n",
      "30/30 [==============================] - 4s 32ms/step - loss: 0.5726 - accuracy: 0.7145\n",
      "Epoch 2/4\n",
      "30/30 [==============================] - 1s 33ms/step - loss: 0.2952 - accuracy: 0.9069\n",
      "Epoch 3/4\n",
      "30/30 [==============================] - 1s 36ms/step - loss: 0.2128 - accuracy: 0.9340\n",
      "Epoch 4/4\n",
      "30/30 [==============================] - 1s 18ms/step - loss: 0.1663 - accuracy: 0.9494\n",
      "782/782 [==============================] - 5s 5ms/step - loss: 0.3017 - accuracy: 0.8772\n"
     ]
    }
   ],
   "source": [
    "#Model Defination\n",
    "\n",
    "model = models.Sequential()\n",
    "model.add(layers.Dense(16, input_shape=(10000,), activation='relu'))\n",
    "model.add(layers.Dense(16,activation='relu'))\n",
    "model.add(layers.Dense(1,activation='sigmoid'))\n",
    "\n",
    "#Compiling\n",
    "model.compile(optimizer='rmsprop', loss='binary_crossentropy', metrics=['accuracy'])\n",
    "model.fit(X_partial_train, y_partial_train, epochs=4, batch_size=512)\n",
    "results = model.evaluate(X_test, y_test)"
   ]
  },
  {
   "cell_type": "code",
   "execution_count": 74,
   "id": "7967743c",
   "metadata": {},
   "outputs": [
    {
     "data": {
      "text/plain": [
       "[0.30170342326164246, 0.8772000074386597]"
      ]
     },
     "execution_count": 74,
     "metadata": {},
     "output_type": "execute_result"
    }
   ],
   "source": [
    "results"
   ]
  },
  {
   "cell_type": "markdown",
   "id": "8ca72cf0",
   "metadata": {},
   "source": [
    "This simple niave model achieves an accuracyclose to 88%, with fairly more complex and tuned model we can go easily cloe to 95%."
   ]
  },
  {
   "cell_type": "markdown",
   "id": "05ed2fcc",
   "metadata": {},
   "source": [
    "### Generating predictions on new data"
   ]
  },
  {
   "cell_type": "code",
   "execution_count": 75,
   "id": "f10ecca2",
   "metadata": {},
   "outputs": [
    {
     "data": {
      "text/plain": [
       "array([[0.29302353],\n",
       "       [0.99915874],\n",
       "       [0.95177627],\n",
       "       ...,\n",
       "       [0.11147472],\n",
       "       [0.20404035],\n",
       "       [0.54300404]], dtype=float32)"
      ]
     },
     "execution_count": 75,
     "metadata": {},
     "output_type": "execute_result"
    }
   ],
   "source": [
    "model.predict(X_test)"
   ]
  },
  {
   "cell_type": "markdown",
   "id": "aa5fda30",
   "metadata": {},
   "source": [
    "### Further experiments\n",
    "1) Try using one or three hidden layer and observe the training and validation accuracy\n",
    "\n",
    "2) Try using layers with more than 16 units e.g 32, 64 units ...\n",
    "\n",
    "3) Try using `mse` loss function instead of binary_crossentropy\n",
    "\n",
    "4) Try using `tanh` activation function instaed of relu"
   ]
  },
  {
   "cell_type": "markdown",
   "id": "1437b5de",
   "metadata": {},
   "source": [
    "#### One hidden layer"
   ]
  },
  {
   "cell_type": "code",
   "execution_count": 79,
   "id": "49f561b6",
   "metadata": {},
   "outputs": [],
   "source": [
    "#COnverting Train and Val accuracy into a function\n",
    "\n",
    "def plot_train_val_acc(history_dict):\n",
    "    train_acc_values = history_dict['accuracy']\n",
    "    val_acc_values = history_dict['val_accuracy']\n",
    "    epochs = range(1, len(history_dict['accuracy']) + 1)\n",
    "    plt.plot(epochs, train_acc_values, 'bo', label='train_acc')\n",
    "    plt.plot(epochs, val_acc_values, 'b', label='val_acc')\n",
    "    plt.title(\"Training vs validation accuracy\")\n",
    "    plt.xlabel('Epochs')\n",
    "    plt.ylabel('Accuracy')\n",
    "    plt.legend()\n",
    "    plt.show()"
   ]
  },
  {
   "cell_type": "code",
   "execution_count": 83,
   "id": "a5b4e4d4",
   "metadata": {},
   "outputs": [
    {
     "name": "stdout",
     "output_type": "stream",
     "text": [
      "Epoch 1/10\n",
      "30/30 [==============================] - 8s 180ms/step - loss: 0.5740 - accuracy: 0.7182 - val_loss: 0.3885 - val_accuracy: 0.8680\n",
      "Epoch 2/10\n",
      "30/30 [==============================] - 1s 30ms/step - loss: 0.3293 - accuracy: 0.9002 - val_loss: 0.3299 - val_accuracy: 0.8790\n",
      "Epoch 3/10\n",
      "30/30 [==============================] - 1s 29ms/step - loss: 0.2482 - accuracy: 0.9255 - val_loss: 0.2916 - val_accuracy: 0.8880\n",
      "Epoch 4/10\n",
      "30/30 [==============================] - 1s 28ms/step - loss: 0.2072 - accuracy: 0.9377 - val_loss: 0.2833 - val_accuracy: 0.8883\n",
      "Epoch 5/10\n",
      "30/30 [==============================] - 1s 28ms/step - loss: 0.1668 - accuracy: 0.9519 - val_loss: 0.2777 - val_accuracy: 0.8896\n",
      "Epoch 6/10\n",
      "30/30 [==============================] - 1s 28ms/step - loss: 0.1432 - accuracy: 0.9587 - val_loss: 0.2768 - val_accuracy: 0.8872\n",
      "Epoch 7/10\n",
      "30/30 [==============================] - 1s 36ms/step - loss: 0.1241 - accuracy: 0.9668 - val_loss: 0.2826 - val_accuracy: 0.8883\n",
      "Epoch 8/10\n",
      "30/30 [==============================] - 1s 29ms/step - loss: 0.1131 - accuracy: 0.9682 - val_loss: 0.2890 - val_accuracy: 0.8860\n",
      "Epoch 9/10\n",
      "30/30 [==============================] - 1s 29ms/step - loss: 0.0959 - accuracy: 0.9758 - val_loss: 0.2988 - val_accuracy: 0.8824\n",
      "Epoch 10/10\n",
      "30/30 [==============================] - 1s 26ms/step - loss: 0.0847 - accuracy: 0.9797 - val_loss: 0.3103 - val_accuracy: 0.8831\n"
     ]
    },
    {
     "data": {
      "image/png": "[encoded data removed]",
      "text/plain": [
       "<Figure size 432x288 with 1 Axes>"
      ]
     },
     "metadata": {
      "needs_background": "light"
     },
     "output_type": "display_data"
    }
   ],
   "source": [
    "model = models.Sequential()\n",
    "model.add(layers.Dense(16, input_shape=(10000,), activation='relu'))\n",
    "model.add(layers.Dense(1, activation='sigmoid'))\n",
    "\n",
    "#Compiling\n",
    "model.compile(optimizer='rmsprop', loss='binary_crossentropy', metrics=['accuracy'])\n",
    "\n",
    "#Fitting\n",
    "history=model.fit(X_partial_train, y_partial_train, epochs=10, batch_size=512, validation_data=(X_val,y_val))\n",
    "history_dict=history.history\n",
    "plot_train_val_acc(history_dict)"
   ]
  },
  {
   "cell_type": "markdown",
   "id": "dbde0479",
   "metadata": {},
   "source": [
    "Observations: Validation accuracy is kind of stalling after 2nd epoch. Its almost behaving same as previous archtechture\n",
    "\n",
    "#### 3 hidden layer"
   ]
  },
  {
   "cell_type": "code",
   "execution_count": 84,
   "id": "fc72e1fa",
   "metadata": {},
   "outputs": [
    {
     "name": "stdout",
     "output_type": "stream",
     "text": [
      "Epoch 1/10\n",
      "30/30 [==============================] - 9s 213ms/step - loss: 0.6223 - accuracy: 0.6697 - val_loss: 0.4333 - val_accuracy: 0.8276\n",
      "Epoch 2/10\n",
      "30/30 [==============================] - 1s 33ms/step - loss: 0.3504 - accuracy: 0.8913 - val_loss: 0.3285 - val_accuracy: 0.8697\n",
      "Epoch 3/10\n",
      "30/30 [==============================] - 1s 31ms/step - loss: 0.2273 - accuracy: 0.9277 - val_loss: 0.2844 - val_accuracy: 0.8890\n",
      "Epoch 4/10\n",
      "30/30 [==============================] - 1s 33ms/step - loss: 0.1703 - accuracy: 0.9482 - val_loss: 0.2948 - val_accuracy: 0.8850\n",
      "Epoch 5/10\n",
      "30/30 [==============================] - 1s 30ms/step - loss: 0.1233 - accuracy: 0.9635 - val_loss: 0.2987 - val_accuracy: 0.8869\n",
      "Epoch 6/10\n",
      "30/30 [==============================] - 1s 37ms/step - loss: 0.0986 - accuracy: 0.9731 - val_loss: 0.3160 - val_accuracy: 0.8840\n",
      "Epoch 7/10\n",
      "30/30 [==============================] - 1s 34ms/step - loss: 0.0758 - accuracy: 0.9800 - val_loss: 0.3612 - val_accuracy: 0.8734\n",
      "Epoch 8/10\n",
      "30/30 [==============================] - 1s 34ms/step - loss: 0.0589 - accuracy: 0.9857 - val_loss: 0.3722 - val_accuracy: 0.8793\n",
      "Epoch 9/10\n",
      "30/30 [==============================] - 1s 35ms/step - loss: 0.0474 - accuracy: 0.9896 - val_loss: 0.4141 - val_accuracy: 0.8783\n",
      "Epoch 10/10\n",
      "30/30 [==============================] - 1s 34ms/step - loss: 0.0311 - accuracy: 0.9942 - val_loss: 0.4336 - val_accuracy: 0.8759\n"
     ]
    },
    {
     "data": {
      "image/png": "[encoded data removed]",
      "text/plain": [
       "<Figure size 432x288 with 1 Axes>"
      ]
     },
     "metadata": {
      "needs_background": "light"
     },
     "output_type": "display_data"
    }
   ],
   "source": [
    "model = models.Sequential()\n",
    "model.add(layers.Dense(16, input_shape=(10000,), activation='relu'))\n",
    "model.add(layers.Dense(16, activation='relu'))\n",
    "model.add(layers.Dense(16, activation='relu'))\n",
    "model.add(layers.Dense(1, activation='sigmoid'))\n",
    "\n",
    "#Compiling\n",
    "model.compile(optimizer='rmsprop', loss='binary_crossentropy', metrics=['accuracy'])\n",
    "\n",
    "#Fitting\n",
    "history=model.fit(X_partial_train, y_partial_train, epochs=10, batch_size=512, validation_data=(X_val,y_val))\n",
    "history_dict=history.history\n",
    "plot_train_val_acc(history_dict)"
   ]
  },
  {
   "cell_type": "markdown",
   "id": "c670f2ff",
   "metadata": {},
   "source": [
    "Observations: Although some difference we can see compare to previous one but overall its same. Overfitting.\n",
    "\n",
    "#### Running Original configuration with higher hidden units 32"
   ]
  },
  {
   "cell_type": "code",
   "execution_count": 85,
   "id": "1b999f93",
   "metadata": {},
   "outputs": [
    {
     "name": "stdout",
     "output_type": "stream",
     "text": [
      "Epoch 1/10\n",
      "30/30 [==============================] - 9s 222ms/step - loss: 0.5809 - accuracy: 0.6873 - val_loss: 0.3508 - val_accuracy: 0.8667\n",
      "Epoch 2/10\n",
      "30/30 [==============================] - 1s 38ms/step - loss: 0.2796 - accuracy: 0.9044 - val_loss: 0.2814 - val_accuracy: 0.8900\n",
      "Epoch 3/10\n",
      "30/30 [==============================] - 1s 38ms/step - loss: 0.1877 - accuracy: 0.9421 - val_loss: 0.2846 - val_accuracy: 0.8864\n",
      "Epoch 4/10\n",
      "30/30 [==============================] - 1s 41ms/step - loss: 0.1402 - accuracy: 0.9563 - val_loss: 0.3050 - val_accuracy: 0.8783\n",
      "Epoch 5/10\n",
      "30/30 [==============================] - 1s 37ms/step - loss: 0.1145 - accuracy: 0.9643 - val_loss: 0.3906 - val_accuracy: 0.8621\n",
      "Epoch 6/10\n",
      "30/30 [==============================] - 1s 35ms/step - loss: 0.0929 - accuracy: 0.9726 - val_loss: 0.3241 - val_accuracy: 0.8838\n",
      "Epoch 7/10\n",
      "30/30 [==============================] - 1s 33ms/step - loss: 0.0655 - accuracy: 0.9820 - val_loss: 0.3979 - val_accuracy: 0.8721\n",
      "Epoch 8/10\n",
      "30/30 [==============================] - 1s 34ms/step - loss: 0.0550 - accuracy: 0.9856 - val_loss: 0.4010 - val_accuracy: 0.8797\n",
      "Epoch 9/10\n",
      "30/30 [==============================] - 1s 32ms/step - loss: 0.0400 - accuracy: 0.9909 - val_loss: 0.4252 - val_accuracy: 0.8748\n",
      "Epoch 10/10\n",
      "30/30 [==============================] - 1s 31ms/step - loss: 0.0317 - accuracy: 0.9936 - val_loss: 0.4604 - val_accuracy: 0.8778\n"
     ]
    },
    {
     "data": {
      "image/png": "[encoded data removed]",
      "text/plain": [
       "<Figure size 432x288 with 1 Axes>"
      ]
     },
     "metadata": {
      "needs_background": "light"
     },
     "output_type": "display_data"
    }
   ],
   "source": [
    "model = models.Sequential()\n",
    "model.add(layers.Dense(32, input_shape=(10000,), activation='relu'))\n",
    "model.add(layers.Dense(32, activation='relu'))\n",
    "model.add(layers.Dense(1, activation='sigmoid'))\n",
    "\n",
    "#Compiling\n",
    "model.compile(optimizer='rmsprop', loss='binary_crossentropy', metrics=['accuracy'])\n",
    "\n",
    "#Fitting\n",
    "history=model.fit(X_partial_train, y_partial_train, epochs=10, batch_size=512, validation_data=(X_val,y_val))\n",
    "history_dict=history.history\n",
    "plot_train_val_acc(history_dict)"
   ]
  },
  {
   "cell_type": "code",
   "execution_count": 86,
   "id": "b376de0d",
   "metadata": {},
   "outputs": [
    {
     "name": "stdout",
     "output_type": "stream",
     "text": [
      "Epoch 1/10\n",
      "469/469 [==============================] - 12s 21ms/step - loss: 0.4590 - accuracy: 0.7873 - val_loss: 0.3295 - val_accuracy: 0.8708\n",
      "Epoch 2/10\n",
      "469/469 [==============================] - 5s 10ms/step - loss: 0.1923 - accuracy: 0.9285 - val_loss: 0.2911 - val_accuracy: 0.8850\n",
      "Epoch 3/10\n",
      "469/469 [==============================] - 4s 9ms/step - loss: 0.1462 - accuracy: 0.9458 - val_loss: 0.3181 - val_accuracy: 0.8825\n",
      "Epoch 4/10\n",
      "469/469 [==============================] - 4s 9ms/step - loss: 0.1191 - accuracy: 0.9563 - val_loss: 0.3756 - val_accuracy: 0.8741\n",
      "Epoch 5/10\n",
      "469/469 [==============================] - 4s 9ms/step - loss: 0.0934 - accuracy: 0.9677 - val_loss: 0.4227 - val_accuracy: 0.8764\n",
      "Epoch 6/10\n",
      "469/469 [==============================] - 4s 9ms/step - loss: 0.0736 - accuracy: 0.9740 - val_loss: 0.4637 - val_accuracy: 0.8767\n",
      "Epoch 7/10\n",
      "469/469 [==============================] - 5s 10ms/step - loss: 0.0521 - accuracy: 0.9827 - val_loss: 0.5422 - val_accuracy: 0.8760\n",
      "Epoch 8/10\n",
      "469/469 [==============================] - 4s 10ms/step - loss: 0.0416 - accuracy: 0.9858 - val_loss: 0.6741 - val_accuracy: 0.8742\n",
      "Epoch 9/10\n",
      "469/469 [==============================] - 4s 9ms/step - loss: 0.0285 - accuracy: 0.9912 - val_loss: 0.7612 - val_accuracy: 0.8719\n",
      "Epoch 10/10\n",
      "469/469 [==============================] - 4s 9ms/step - loss: 0.0195 - accuracy: 0.9952 - val_loss: 0.9730 - val_accuracy: 0.8700\n"
     ]
    },
    {
     "data": {
      "image/png": "[encoded data removed]",
      "text/plain": [
       "<Figure size 432x288 with 1 Axes>"
      ]
     },
     "metadata": {
      "needs_background": "light"
     },
     "output_type": "display_data"
    }
   ],
   "source": [
    "model = models.Sequential()\n",
    "model.add(layers.Dense(32, input_shape=(10000,), activation='relu'))\n",
    "model.add(layers.Dense(16, activation='relu'))\n",
    "model.add(layers.Dense(8, activation='relu'))\n",
    "model.add(layers.Dense(1, activation='sigmoid'))\n",
    "\n",
    "#Compiling\n",
    "model.compile(optimizer='rmsprop', loss='binary_crossentropy', metrics=['accuracy'])\n",
    "\n",
    "#Fitting\n",
    "history=model.fit(X_partial_train, y_partial_train, epochs=10, batch_size=32, validation_data=(X_val,y_val))\n",
    "history_dict=history.history\n",
    "plot_train_val_acc(history_dict)"
   ]
  },
  {
   "cell_type": "markdown",
   "id": "d204442a",
   "metadata": {},
   "source": [
    "Observations: Accuracy is 1% higher than previous models (87%> 85-86%) but still not much difference.\n",
    "\n",
    "#### Trying original model with mse as loss function"
   ]
  },
  {
   "cell_type": "code",
   "execution_count": 87,
   "id": "18ff5998",
   "metadata": {},
   "outputs": [
    {
     "name": "stdout",
     "output_type": "stream",
     "text": [
      "Epoch 1/10\n",
      "30/30 [==============================] - 9s 222ms/step - loss: 0.2088 - accuracy: 0.6961 - val_loss: 0.1213 - val_accuracy: 0.8602\n",
      "Epoch 2/10\n",
      "30/30 [==============================] - 1s 33ms/step - loss: 0.0922 - accuracy: 0.9067 - val_loss: 0.1009 - val_accuracy: 0.8696\n",
      "Epoch 3/10\n",
      "30/30 [==============================] - 1s 27ms/step - loss: 0.0645 - accuracy: 0.9266 - val_loss: 0.0825 - val_accuracy: 0.8927\n",
      "Epoch 4/10\n",
      "30/30 [==============================] - 1s 29ms/step - loss: 0.0432 - accuracy: 0.9539 - val_loss: 0.1106 - val_accuracy: 0.8491\n",
      "Epoch 5/10\n",
      "30/30 [==============================] - 1s 28ms/step - loss: 0.0363 - accuracy: 0.9612 - val_loss: 0.0900 - val_accuracy: 0.8785\n",
      "Epoch 6/10\n",
      "30/30 [==============================] - 1s 32ms/step - loss: 0.0276 - accuracy: 0.9713 - val_loss: 0.0922 - val_accuracy: 0.8753\n",
      "Epoch 7/10\n",
      "30/30 [==============================] - 1s 30ms/step - loss: 0.0213 - accuracy: 0.9786 - val_loss: 0.0902 - val_accuracy: 0.8797\n",
      "Epoch 8/10\n",
      "30/30 [==============================] - 1s 29ms/step - loss: 0.0166 - accuracy: 0.9857 - val_loss: 0.0947 - val_accuracy: 0.8761\n",
      "Epoch 9/10\n",
      "30/30 [==============================] - 1s 30ms/step - loss: 0.0153 - accuracy: 0.9856 - val_loss: 0.0981 - val_accuracy: 0.8728\n",
      "Epoch 10/10\n",
      "30/30 [==============================] - 1s 26ms/step - loss: 0.0106 - accuracy: 0.9915 - val_loss: 0.0981 - val_accuracy: 0.8764\n"
     ]
    },
    {
     "data": {
      "image/png": "[encoded data removed]",
      "text/plain": [
       "<Figure size 432x288 with 1 Axes>"
      ]
     },
     "metadata": {
      "needs_background": "light"
     },
     "output_type": "display_data"
    }
   ],
   "source": [
    "model = models.Sequential()\n",
    "model.add(layers.Dense(16, input_shape=(10000,), activation='relu'))\n",
    "model.add(layers.Dense(16, activation='relu'))\n",
    "model.add(layers.Dense(16, activation='relu'))\n",
    "model.add(layers.Dense(1, activation='sigmoid'))\n",
    "\n",
    "#Compiling\n",
    "model.compile(optimizer='rmsprop', loss='mse', metrics=['accuracy'])\n",
    "\n",
    "#Fitting\n",
    "history=model.fit(X_partial_train, y_partial_train, epochs=10, batch_size=512, validation_data=(X_val,y_val))\n",
    "history_dict=history.history\n",
    "plot_train_val_acc(history_dict)"
   ]
  },
  {
   "cell_type": "code",
   "execution_count": 89,
   "id": "b375b95b",
   "metadata": {},
   "outputs": [
    {
     "data": {
      "image/png": "[encoded data removed]",
      "text/plain": [
       "<Figure size 432x288 with 1 Axes>"
      ]
     },
     "metadata": {
      "needs_background": "light"
     },
     "output_type": "display_data"
    }
   ],
   "source": [
    "#Plotting loss graph\n",
    "# Train loss vs validation loss\n",
    "import matplotlib.pyplot as plt\n",
    "train_loss_values = history_dict['loss']\n",
    "val_loss_values = history_dict['val_loss']\n",
    "epochs = range(1, len(history_dict['accuracy']) + 1)\n",
    "\n",
    "plt.plot(epochs, train_loss_values, 'bo', label='train_loss')\n",
    "plt.plot(epochs, val_loss_values, 'b', label='val_loss')\n",
    "plt.title(\"Training vs validation loss\")\n",
    "plt.xlabel('Epochs')\n",
    "plt.ylabel('Loss')\n",
    "plt.legend()\n",
    "plt.show()"
   ]
  },
  {
   "cell_type": "markdown",
   "id": "7b7c17f7",
   "metadata": {},
   "source": [
    "Observations: Comapring this mse loss plot with original binary_crossentropy we can see the difference.\n",
    "1)mse has a scale upto 0.18 has max where bce was upto 0.7\n",
    "2)After 2nd epoch bce loss for val data shootup upto 0.7 but here, the updowns happeneing in val loss at two epoch counts, we can say that mse loss function not giving stable loss plot for this problem.\n",
    "\n",
    "#### Trying original model with tanh activatiion function"
   ]
  },
  {
   "cell_type": "code",
   "execution_count": 90,
   "id": "bc5377dc",
   "metadata": {},
   "outputs": [
    {
     "name": "stdout",
     "output_type": "stream",
     "text": [
      "Epoch 1/10\n",
      "30/30 [==============================] - 10s 232ms/step - loss: 0.1988 - accuracy: 0.6924 - val_loss: 0.1102 - val_accuracy: 0.8598\n",
      "Epoch 2/10\n",
      "30/30 [==============================] - 1s 34ms/step - loss: 0.0773 - accuracy: 0.9129 - val_loss: 0.0836 - val_accuracy: 0.8867\n",
      "Epoch 3/10\n",
      "30/30 [==============================] - 1s 27ms/step - loss: 0.0471 - accuracy: 0.9450 - val_loss: 0.0836 - val_accuracy: 0.8856\n",
      "Epoch 4/10\n",
      "30/30 [==============================] - 1s 27ms/step - loss: 0.0342 - accuracy: 0.9599 - val_loss: 0.0950 - val_accuracy: 0.8772\n",
      "Epoch 5/10\n",
      "30/30 [==============================] - 1s 28ms/step - loss: 0.0307 - accuracy: 0.9610 - val_loss: 0.1039 - val_accuracy: 0.8688\n",
      "Epoch 6/10\n",
      "30/30 [==============================] - 1s 29ms/step - loss: 0.0195 - accuracy: 0.9769 - val_loss: 0.0995 - val_accuracy: 0.8763\n",
      "Epoch 7/10\n",
      "30/30 [==============================] - 1s 29ms/step - loss: 0.0159 - accuracy: 0.9820 - val_loss: 0.1036 - val_accuracy: 0.8745\n",
      "Epoch 8/10\n",
      "30/30 [==============================] - 1s 27ms/step - loss: 0.0148 - accuracy: 0.9835 - val_loss: 0.1106 - val_accuracy: 0.8690\n",
      "Epoch 9/10\n",
      "30/30 [==============================] - 1s 28ms/step - loss: 0.0133 - accuracy: 0.9852 - val_loss: 0.1106 - val_accuracy: 0.8701\n",
      "Epoch 10/10\n",
      "30/30 [==============================] - 1s 27ms/step - loss: 0.0099 - accuracy: 0.9894 - val_loss: 0.1113 - val_accuracy: 0.8728\n"
     ]
    },
    {
     "data": {
      "image/png": "[encoded data removed]",
      "text/plain": [
       "<Figure size 432x288 with 1 Axes>"
      ]
     },
     "metadata": {
      "needs_background": "light"
     },
     "output_type": "display_data"
    }
   ],
   "source": [
    "model = models.Sequential()\n",
    "model.add(layers.Dense(16, input_shape=(10000,), activation='tanh'))\n",
    "model.add(layers.Dense(16, activation='tanh'))\n",
    "model.add(layers.Dense(16, activation='tanh'))\n",
    "model.add(layers.Dense(1, activation='sigmoid'))\n",
    "\n",
    "#Compiling\n",
    "model.compile(optimizer='rmsprop', loss='mse', metrics=['accuracy'])\n",
    "\n",
    "#Fitting\n",
    "history=model.fit(X_partial_train, y_partial_train, epochs=10, batch_size=512, validation_data=(X_val,y_val))\n",
    "history_dict=history.history\n",
    "plot_train_val_acc(history_dict)"
   ]
  },
  {
   "cell_type": "markdown",
   "id": "3acedb28",
   "metadata": {},
   "source": [
    "Observation: WIth tanh rectifier not much difference observed. So final observations is our original model is fairly a good architechture."
   ]
  },
  {
   "cell_type": "code",
   "execution_count": null,
   "id": "43281661",
   "metadata": {},
   "outputs": [],
   "source": []
  }
 ],
 "metadata": {
  "kernelspec": {
   "display_name": "Python 3 (ipykernel)",
   "language": "python",
   "name": "python3"
  },
  "language_info": {
   "codemirror_mode": {
    "name": "ipython",
    "version": 3
   },
   "file_extension": ".py",
   "mimetype": "text/x-python",
   "name": "python",
   "nbconvert_exporter": "python",
   "pygments_lexer": "ipython3",
   "version": "3.7.11"
  }
 },
 "nbformat": 4,
 "nbformat_minor": 5
}
