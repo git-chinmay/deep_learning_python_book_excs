{
 "cells": [
  {
   "cell_type": "markdown",
   "id": "0cbe98af",
   "metadata": {},
   "source": [
    "### Experimenting with keras tensorboard callbacks and other utilities to monitor whats going on inside the model\n",
    "\n",
    "> Will test with amazon imdb review dataset"
   ]
  },
  {
   "cell_type": "code",
   "execution_count": 1,
   "id": "cf98e272",
   "metadata": {},
   "outputs": [
    {
     "ename": "ModuleNotFoundError",
     "evalue": "No module named 'keras'",
     "output_type": "error",
     "traceback": [
      "\u001b[1;31m---------------------------------------------------------------------------\u001b[0m",
      "\u001b[1;31mModuleNotFoundError\u001b[0m                       Traceback (most recent call last)",
      "\u001b[1;32m~\\AppData\\Local\\Temp/ipykernel_12452/328599391.py\u001b[0m in \u001b[0;36m<module>\u001b[1;34m\u001b[0m\n\u001b[1;32m----> 1\u001b[1;33m \u001b[1;32mimport\u001b[0m \u001b[0mkeras\u001b[0m\u001b[1;33m\u001b[0m\u001b[1;33m\u001b[0m\u001b[0m\n\u001b[0m\u001b[0;32m      2\u001b[0m \u001b[1;32mfrom\u001b[0m \u001b[0mkeras\u001b[0m\u001b[1;33m.\u001b[0m\u001b[0mlayers\u001b[0m \u001b[1;32mimport\u001b[0m \u001b[0mDense\u001b[0m\u001b[1;33m,\u001b[0m \u001b[0mEmbedding\u001b[0m\u001b[1;33m,\u001b[0m \u001b[0mConv1D\u001b[0m\u001b[1;33m,\u001b[0m \u001b[0mMaxPooling1D\u001b[0m\u001b[1;33m,\u001b[0m \u001b[0mGlobalMaxPooling1D\u001b[0m\u001b[1;33m\u001b[0m\u001b[1;33m\u001b[0m\u001b[0m\n\u001b[0;32m      3\u001b[0m \u001b[1;32mfrom\u001b[0m \u001b[0mkeras\u001b[0m\u001b[1;33m.\u001b[0m\u001b[0mdatasets\u001b[0m \u001b[1;32mimport\u001b[0m \u001b[0mimdb\u001b[0m\u001b[1;33m\u001b[0m\u001b[1;33m\u001b[0m\u001b[0m\n\u001b[0;32m      4\u001b[0m \u001b[1;32mfrom\u001b[0m \u001b[0mkeras\u001b[0m\u001b[1;33m.\u001b[0m\u001b[0mpreprocessing\u001b[0m \u001b[1;32mimport\u001b[0m \u001b[0msequence\u001b[0m\u001b[1;33m\u001b[0m\u001b[1;33m\u001b[0m\u001b[0m\n\u001b[0;32m      5\u001b[0m \u001b[1;32mfrom\u001b[0m \u001b[0mkeras\u001b[0m\u001b[1;33m.\u001b[0m\u001b[0mmodels\u001b[0m \u001b[1;32mimport\u001b[0m \u001b[0mSequential\u001b[0m\u001b[1;33m\u001b[0m\u001b[1;33m\u001b[0m\u001b[0m\n",
      "\u001b[1;31mModuleNotFoundError\u001b[0m: No module named 'keras'"
     ]
    }
   ],
   "source": [
    "import keras\n",
    "from keras.layers import Dense, Embedding, Conv1D, MaxPooling1D, GlobalMaxPooling1D\n",
    "from keras.datasets import imdb\n",
    "from keras.preprocessing import sequence\n",
    "from keras.models import Sequential"
   ]
  },
  {
   "cell_type": "code",
   "execution_count": null,
   "id": "be48eb2f",
   "metadata": {},
   "outputs": [],
   "source": [
    "max_features = 2000\n",
    "max_input_emb_len = 500"
   ]
  },
  {
   "cell_type": "code",
   "execution_count": null,
   "id": "994f28c5",
   "metadata": {},
   "outputs": [],
   "source": [
    "(x_train, y_train), (x_test, y_test) = imdb.load_data(num_words=max_features)\n",
    "x_train = sequence.pad_sequences(x_train, maxlen=max_input_emb_len)\n",
    "x_test = sequence.pad_sequences(x_test, maxlen=max_input_emb_len)\n",
    "\n",
    "model = Sequential()\n",
    "model.add(Embedding(max_features, 128, input_length=max_input_emb_len, name='embed'))\n",
    "model.add(Conv1D(32, 7, activation='relu'))\n",
    "model.add(MaxPooling1D(5))\n",
    "model.add(Conv1D(32, 7, activation='relu'))\n",
    "model.add(GlobalMaxPooling1D())\n",
    "model.add(Dense(1))\n",
    "model.summary()\n",
    "model.compile(optimizer='rmsprop', loss='binary_crossentropy', metrics=['acc'])"
   ]
  },
  {
   "cell_type": "code",
   "execution_count": null,
   "id": "1df23b11",
   "metadata": {},
   "outputs": [],
   "source": [
    "#!mkdir tb_log_dir"
   ]
  },
  {
   "cell_type": "code",
   "execution_count": null,
   "id": "59e75d24",
   "metadata": {},
   "outputs": [],
   "source": [
    "# histogram_freq =1  > Record activation histograms at every 1 epochs\n",
    "# embeddings_freq =1 > Records embeddings data every 1 epochs\n",
    "\n",
    "call_back = [keras.callbacks.TensorBoard(log_dir='tb_log_dir',\n",
    "                                        histogram_freq=1,\n",
    "                                        embeddings_freq=1)]\n",
    "\n",
    "history = model.fit(x_train, y_train, epochs=20, batch_size=128, validation_split=0.2, callbacks=call_back)\n",
    "# Activate the tensorboard in a termonal > tensorboard --logdir=tb_log_dir"
   ]
  },
  {
   "cell_type": "code",
   "execution_count": null,
   "id": "266aeea7",
   "metadata": {},
   "outputs": [],
   "source": [
    "# Displaying tensorboard images \n",
    "from IPython.display import Image, display\n",
    "\n",
    "listOfImageNames = ['./images/activation_histograms.png',\n",
    "                    './images/network_diagram_tensorboard.png',\n",
    "                   './images/plots.png']\n",
    "\n",
    "for imageName in listOfImageNames:\n",
    "    display(Image(filename=imageName))"
   ]
  },
  {
   "cell_type": "markdown",
   "id": "84600d17",
   "metadata": {},
   "source": [
    "Note: We can see the netwrok diagram is very completecated one compared to the simple linear stack at keras. That is the label of \n",
    "simplicity Keras brings to create the network otherwise we have to define all those elements if we use pure tensorflow from scratch."
   ]
  },
  {
   "cell_type": "markdown",
   "id": "02899bd1",
   "metadata": {},
   "source": [
    "#### We can also use keras utility to display cleaned version of network\n",
    "\n",
    "> Make sure pydot, pydot-ng & graphviz is installed in your environment\n",
    "\n",
    "    !pip install pydot\n",
    "\n",
    "    !pip install pydot-ng\n",
    "\n",
    "    !pip install graphviz"
   ]
  },
  {
   "cell_type": "code",
   "execution_count": null,
   "id": "5307b75c",
   "metadata": {},
   "outputs": [],
   "source": [
    "#from keras.utils import plot_model\n",
    "from keras.utils.vis_utils import plot_model\n",
    "plot_model(model, to_file='./images/model.png')"
   ]
  },
  {
   "cell_type": "code",
   "execution_count": null,
   "id": "3ad0b43c",
   "metadata": {},
   "outputs": [],
   "source": [
    "#To visilaise the topology with shape information\n",
    "plot_model(model, show_shapes=True, to_file='./images/model_with_shapeinfo.png')"
   ]
  },
  {
   "cell_type": "code",
   "execution_count": null,
   "id": "f5df58b8",
   "metadata": {},
   "outputs": [],
   "source": [
    "#for showing image: https://stackoverflow.com/questions/11854847/how-can-i-display-an-image-from-a-file-in-jupyter-notebook\n",
    "#To run grpahviz: https://github.com/XifengGuo/CapsNet-Keras/issues/25"
   ]
  }
 ],
 "metadata": {
  "kernelspec": {
   "display_name": "Python 3 (ipykernel)",
   "language": "python",
   "name": "python3"
  },
  "language_info": {
   "codemirror_mode": {
    "name": "ipython",
    "version": 3
   },
   "file_extension": ".py",
   "mimetype": "text/x-python",
   "name": "python",
   "nbconvert_exporter": "python",
   "pygments_lexer": "ipython3",
   "version": "3.9.6"
  }
 },
 "nbformat": 4,
 "nbformat_minor": 5
}
